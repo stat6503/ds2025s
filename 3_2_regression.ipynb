{
 "cells": [
  {
   "cell_type": "markdown",
   "metadata": {
    "id": "D9_TO0tdhOc1"
   },
   "source": [
    "<h1>8. 지도학습 : 회귀</h1>"
   ]
  },
  {
   "attachments": {},
   "cell_type": "markdown",
   "metadata": {},
   "source": [
    "## 8.1. 상관분석\n",
    "### 8.1.1. 상관계수\n",
    "+ 상관분석(correlation analysis)\n",
    "  + 두 수치형 변수 간 선형적인 관계(linear relationship)를 파악하는 통계 기법\n",
    "  + 상관계수(correlation coefficient)\n",
    "    + 두 변수 간 상관관계를 수치로 나타내어 정량화한 지표\n",
    "    + 상관계수의 절대값은 선형성의 강도를, 부호는 선형성의 방향성을 나타냄\n",
    "    + 변수의 측정 단위의 영향을 받지 않음\n",
    "\n",
    "<br>\n",
    "\n",
    "+ 상관계수의 성질\n",
    "  + 상관계수 r은 항상 -1에서 +1 사이의 값을 가짐\n",
    "  + 절대값이 1에 가까울수록 강한 상관관계를 의미함\n",
    "  + r>0이면 양의 상관관계, r<0이면 음의 상관관계, r=0이면 상관관계가 없음을 나타냄\n",
    "    + 양의 상관관계 : 한 변수가 증가할 때 다른 변수도 증가\n",
    "    + 음의 상관관계 : 한 변수가 증가할 때 다른 변수는 감소\n",
    "    + 상관관계 없음 : 한 변수가 증가할 때 다른 변수는 영향을 받지 않음\n",
    "\n",
    "<br>\n",
    "\n",
    "![](./images/fig3-7.jpg){width=70%}\n",
    "\n",
    "<br>"
   ]
  },
  {
   "cell_type": "markdown",
   "metadata": {},
   "source": [
    "### 8.1.2. (실습) 행복지수 데이터 분석\n",
    "+ \\[데이터\\] 캐글에서 제공하는 전세계 행복지수 데이터\n",
    "  + 평가지표 : 1인당 GDP, 사회적 지지 정도, 건강한 기대수명, 인생 선택의 자유, 기부\n",
    "  + \\[실습파일\\] [2020.csv](./data/2020.csv), [2021.csv](./data/2021.csv)\n",
    "\n",
    "<br>\n",
    "\n",
    "> **행복지수와 관련된 요인은 무엇일까?**\n",
    "\n",
    "<br>"
   ]
  },
  {
   "cell_type": "code",
   "execution_count": 1,
   "metadata": {},
   "outputs": [],
   "source": [
    "## (1) 데이터 확인 및 전처리"
   ]
  },
  {
   "cell_type": "code",
   "execution_count": 2,
   "metadata": {
    "id": "8ipiNeZXsrFL"
   },
   "outputs": [],
   "source": [
    "# 라이브러리 불러오기\n",
    "import numpy as np\n",
    "import pandas as pd \n",
    "import matplotlib.pyplot as plt\n",
    "import seaborn as sns"
   ]
  },
  {
   "cell_type": "code",
   "execution_count": 3,
   "metadata": {
    "id": "tJQuMCMjszBg"
   },
   "outputs": [],
   "source": [
    "# 데이터 불러오기\n",
    "df2020 = pd.read_csv('./data/2020.csv', index_col=0)\n",
    "df2021 = pd.read_csv('./data/2021.csv', index_col=0)"
   ]
  },
  {
   "cell_type": "code",
   "execution_count": 4,
   "metadata": {
    "colab": {
     "base_uri": "https://localhost:8080/"
    },
    "id": "b-ZINg0zC_ww",
    "outputId": "dacbf8ef-422b-4a38-833b-0a8e312a2694"
   },
   "outputs": [
    {
     "data": {
      "text/plain": [
       "Country name                     object\n",
       "Happiness score                 float64\n",
       "upperwhisker                    float64\n",
       "lowerwhisker                    float64\n",
       "GDP per capita                  float64\n",
       "Social support                  float64\n",
       "Healthy life expectancy         float64\n",
       "Freedom to make life choices    float64\n",
       "Generosity                      float64\n",
       "Dystopia                        float64\n",
       "dtype: object"
      ]
     },
     "execution_count": 4,
     "metadata": {},
     "output_type": "execute_result"
    }
   ],
   "source": [
    "# 열 정보\n",
    "df2020.dtypes"
   ]
  },
  {
   "cell_type": "code",
   "execution_count": 5,
   "metadata": {
    "colab": {
     "base_uri": "https://localhost:8080/",
     "height": 238
    },
    "id": "4DlMKd05tkzf",
    "outputId": "157191b9-d65d-4e2f-f2da-8f281401c15a"
   },
   "outputs": [
    {
     "data": {
      "text/html": [
       "<div>\n",
       "<style scoped>\n",
       "    .dataframe tbody tr th:only-of-type {\n",
       "        vertical-align: middle;\n",
       "    }\n",
       "\n",
       "    .dataframe tbody tr th {\n",
       "        vertical-align: top;\n",
       "    }\n",
       "\n",
       "    .dataframe thead th {\n",
       "        text-align: right;\n",
       "    }\n",
       "</style>\n",
       "<table border=\"1\" class=\"dataframe\">\n",
       "  <thead>\n",
       "    <tr style=\"text-align: right;\">\n",
       "      <th></th>\n",
       "      <th>Country name</th>\n",
       "      <th>Happiness score</th>\n",
       "      <th>upperwhisker</th>\n",
       "      <th>lowerwhisker</th>\n",
       "      <th>GDP per capita</th>\n",
       "      <th>Social support</th>\n",
       "      <th>Healthy life expectancy</th>\n",
       "      <th>Freedom to make life choices</th>\n",
       "      <th>Generosity</th>\n",
       "      <th>Dystopia</th>\n",
       "    </tr>\n",
       "    <tr>\n",
       "      <th>Rank</th>\n",
       "      <th></th>\n",
       "      <th></th>\n",
       "      <th></th>\n",
       "      <th></th>\n",
       "      <th></th>\n",
       "      <th></th>\n",
       "      <th></th>\n",
       "      <th></th>\n",
       "      <th></th>\n",
       "      <th></th>\n",
       "    </tr>\n",
       "  </thead>\n",
       "  <tbody>\n",
       "    <tr>\n",
       "      <th>1</th>\n",
       "      <td>Finland</td>\n",
       "      <td>7.8087</td>\n",
       "      <td>7.869766</td>\n",
       "      <td>7.747634</td>\n",
       "      <td>10.639267</td>\n",
       "      <td>0.954330</td>\n",
       "      <td>71.900825</td>\n",
       "      <td>0.949172</td>\n",
       "      <td>-0.059482</td>\n",
       "      <td>2.762835</td>\n",
       "    </tr>\n",
       "    <tr>\n",
       "      <th>2</th>\n",
       "      <td>Denmark</td>\n",
       "      <td>7.6456</td>\n",
       "      <td>7.711245</td>\n",
       "      <td>7.579955</td>\n",
       "      <td>10.774001</td>\n",
       "      <td>0.955991</td>\n",
       "      <td>72.402504</td>\n",
       "      <td>0.951444</td>\n",
       "      <td>0.066202</td>\n",
       "      <td>2.432741</td>\n",
       "    </tr>\n",
       "    <tr>\n",
       "      <th>3</th>\n",
       "      <td>Switzerland</td>\n",
       "      <td>7.5599</td>\n",
       "      <td>7.628528</td>\n",
       "      <td>7.491272</td>\n",
       "      <td>10.979933</td>\n",
       "      <td>0.942847</td>\n",
       "      <td>74.102448</td>\n",
       "      <td>0.921337</td>\n",
       "      <td>0.105911</td>\n",
       "      <td>2.350267</td>\n",
       "    </tr>\n",
       "    <tr>\n",
       "      <th>4</th>\n",
       "      <td>Iceland</td>\n",
       "      <td>7.5045</td>\n",
       "      <td>7.621347</td>\n",
       "      <td>7.387653</td>\n",
       "      <td>10.772559</td>\n",
       "      <td>0.974670</td>\n",
       "      <td>73.000000</td>\n",
       "      <td>0.948892</td>\n",
       "      <td>0.246944</td>\n",
       "      <td>2.460688</td>\n",
       "    </tr>\n",
       "    <tr>\n",
       "      <th>5</th>\n",
       "      <td>Norway</td>\n",
       "      <td>7.4880</td>\n",
       "      <td>7.556281</td>\n",
       "      <td>7.419719</td>\n",
       "      <td>11.087804</td>\n",
       "      <td>0.952487</td>\n",
       "      <td>73.200783</td>\n",
       "      <td>0.955750</td>\n",
       "      <td>0.134533</td>\n",
       "      <td>2.168266</td>\n",
       "    </tr>\n",
       "  </tbody>\n",
       "</table>\n",
       "</div>"
      ],
      "text/plain": [
       "     Country name  Happiness score  upperwhisker  lowerwhisker  \\\n",
       "Rank                                                             \n",
       "1         Finland           7.8087      7.869766      7.747634   \n",
       "2         Denmark           7.6456      7.711245      7.579955   \n",
       "3     Switzerland           7.5599      7.628528      7.491272   \n",
       "4         Iceland           7.5045      7.621347      7.387653   \n",
       "5          Norway           7.4880      7.556281      7.419719   \n",
       "\n",
       "      GDP per capita  Social support  Healthy life expectancy  \\\n",
       "Rank                                                            \n",
       "1          10.639267        0.954330                71.900825   \n",
       "2          10.774001        0.955991                72.402504   \n",
       "3          10.979933        0.942847                74.102448   \n",
       "4          10.772559        0.974670                73.000000   \n",
       "5          11.087804        0.952487                73.200783   \n",
       "\n",
       "      Freedom to make life choices  Generosity  Dystopia  \n",
       "Rank                                                      \n",
       "1                         0.949172   -0.059482  2.762835  \n",
       "2                         0.951444    0.066202  2.432741  \n",
       "3                         0.921337    0.105911  2.350267  \n",
       "4                         0.948892    0.246944  2.460688  \n",
       "5                         0.955750    0.134533  2.168266  "
      ]
     },
     "execution_count": 5,
     "metadata": {},
     "output_type": "execute_result"
    }
   ],
   "source": [
    "# 2020년 데이터 확인\n",
    "df2020.head()"
   ]
  },
  {
   "cell_type": "code",
   "execution_count": 6,
   "metadata": {
    "colab": {
     "base_uri": "https://localhost:8080/",
     "height": 238
    },
    "id": "oZ0t-s2Ixicp",
    "outputId": "0c48b677-897a-4d35-d84a-52c6f8cbbc71"
   },
   "outputs": [
    {
     "data": {
      "text/html": [
       "<div>\n",
       "<style scoped>\n",
       "    .dataframe tbody tr th:only-of-type {\n",
       "        vertical-align: middle;\n",
       "    }\n",
       "\n",
       "    .dataframe tbody tr th {\n",
       "        vertical-align: top;\n",
       "    }\n",
       "\n",
       "    .dataframe thead th {\n",
       "        text-align: right;\n",
       "    }\n",
       "</style>\n",
       "<table border=\"1\" class=\"dataframe\">\n",
       "  <thead>\n",
       "    <tr style=\"text-align: right;\">\n",
       "      <th></th>\n",
       "      <th>Country name</th>\n",
       "      <th>Happiness score</th>\n",
       "      <th>upperwhisker</th>\n",
       "      <th>lowerwhisker</th>\n",
       "      <th>GDP per capita</th>\n",
       "      <th>Social support</th>\n",
       "      <th>Healthy life expectancy</th>\n",
       "      <th>Freedom to make life choices</th>\n",
       "      <th>Generosity</th>\n",
       "      <th>Dystopia</th>\n",
       "    </tr>\n",
       "    <tr>\n",
       "      <th>Rank</th>\n",
       "      <th></th>\n",
       "      <th></th>\n",
       "      <th></th>\n",
       "      <th></th>\n",
       "      <th></th>\n",
       "      <th></th>\n",
       "      <th></th>\n",
       "      <th></th>\n",
       "      <th></th>\n",
       "      <th></th>\n",
       "    </tr>\n",
       "  </thead>\n",
       "  <tbody>\n",
       "    <tr>\n",
       "      <th>1</th>\n",
       "      <td>Finland</td>\n",
       "      <td>7.842</td>\n",
       "      <td>7.904</td>\n",
       "      <td>7.780</td>\n",
       "      <td>10.775</td>\n",
       "      <td>0.954</td>\n",
       "      <td>72.0</td>\n",
       "      <td>0.949</td>\n",
       "      <td>-0.098</td>\n",
       "      <td>3.253</td>\n",
       "    </tr>\n",
       "    <tr>\n",
       "      <th>2</th>\n",
       "      <td>Denmark</td>\n",
       "      <td>7.620</td>\n",
       "      <td>7.687</td>\n",
       "      <td>7.552</td>\n",
       "      <td>10.933</td>\n",
       "      <td>0.954</td>\n",
       "      <td>72.7</td>\n",
       "      <td>0.946</td>\n",
       "      <td>0.030</td>\n",
       "      <td>2.868</td>\n",
       "    </tr>\n",
       "    <tr>\n",
       "      <th>3</th>\n",
       "      <td>Switzerland</td>\n",
       "      <td>7.571</td>\n",
       "      <td>7.643</td>\n",
       "      <td>7.500</td>\n",
       "      <td>11.117</td>\n",
       "      <td>0.942</td>\n",
       "      <td>74.4</td>\n",
       "      <td>0.919</td>\n",
       "      <td>0.025</td>\n",
       "      <td>2.839</td>\n",
       "    </tr>\n",
       "    <tr>\n",
       "      <th>4</th>\n",
       "      <td>Iceland</td>\n",
       "      <td>7.554</td>\n",
       "      <td>7.670</td>\n",
       "      <td>7.438</td>\n",
       "      <td>10.878</td>\n",
       "      <td>0.983</td>\n",
       "      <td>73.0</td>\n",
       "      <td>0.955</td>\n",
       "      <td>0.160</td>\n",
       "      <td>2.967</td>\n",
       "    </tr>\n",
       "    <tr>\n",
       "      <th>5</th>\n",
       "      <td>Netherlands</td>\n",
       "      <td>7.464</td>\n",
       "      <td>7.518</td>\n",
       "      <td>7.410</td>\n",
       "      <td>10.932</td>\n",
       "      <td>0.942</td>\n",
       "      <td>72.4</td>\n",
       "      <td>0.913</td>\n",
       "      <td>0.175</td>\n",
       "      <td>2.798</td>\n",
       "    </tr>\n",
       "  </tbody>\n",
       "</table>\n",
       "</div>"
      ],
      "text/plain": [
       "     Country name  Happiness score  upperwhisker  lowerwhisker  \\\n",
       "Rank                                                             \n",
       "1         Finland            7.842         7.904         7.780   \n",
       "2         Denmark            7.620         7.687         7.552   \n",
       "3     Switzerland            7.571         7.643         7.500   \n",
       "4         Iceland            7.554         7.670         7.438   \n",
       "5     Netherlands            7.464         7.518         7.410   \n",
       "\n",
       "      GDP per capita  Social support  Healthy life expectancy  \\\n",
       "Rank                                                            \n",
       "1             10.775           0.954                     72.0   \n",
       "2             10.933           0.954                     72.7   \n",
       "3             11.117           0.942                     74.4   \n",
       "4             10.878           0.983                     73.0   \n",
       "5             10.932           0.942                     72.4   \n",
       "\n",
       "      Freedom to make life choices  Generosity  Dystopia  \n",
       "Rank                                                      \n",
       "1                            0.949      -0.098     3.253  \n",
       "2                            0.946       0.030     2.868  \n",
       "3                            0.919       0.025     2.839  \n",
       "4                            0.955       0.160     2.967  \n",
       "5                            0.913       0.175     2.798  "
      ]
     },
     "execution_count": 6,
     "metadata": {},
     "output_type": "execute_result"
    }
   ],
   "source": [
    "# 2021년 데이터 확인\n",
    "df2021.head()"
   ]
  },
  {
   "cell_type": "code",
   "execution_count": 7,
   "metadata": {
    "id": "RCYXCgSmtcpp"
   },
   "outputs": [],
   "source": [
    "# 데이터 전처리 : 열 삭제\n",
    "df2020.drop(['upperwhisker', 'lowerwhisker', 'Dystopia'], axis=1, inplace=True)\n",
    "df2021.drop(['upperwhisker', 'lowerwhisker', 'Dystopia'], axis=1, inplace=True)"
   ]
  },
  {
   "cell_type": "code",
   "execution_count": 8,
   "metadata": {
    "id": "Qm90IrawtqBv"
   },
   "outputs": [],
   "source": [
    "# 열 이름 변경 : 공백을 .으로 대체\n",
    "#df2020.columns = df2020.columns.str.replace(' ','.')\n",
    "#df2021.columns = df2021.columns.str.replace(' ','.')"
   ]
  },
  {
   "cell_type": "code",
   "execution_count": 9,
   "metadata": {},
   "outputs": [],
   "source": [
    "# 데이터 전처리 : 열 이름 변경\n",
    "df2020.columns = ['Country', 'Score', 'GDP.per.capita', 'Social.support', 'Life.expectancy', 'Freedom', 'Generosity']\n",
    "df2021.columns = ['Country', 'Score', 'GDP.per.capita', 'Social.support', 'Life.expectancy', 'Freedom', 'Generosity']"
   ]
  },
  {
   "cell_type": "markdown",
   "metadata": {},
   "source": [
    "<br>"
   ]
  },
  {
   "cell_type": "code",
   "execution_count": 10,
   "metadata": {},
   "outputs": [],
   "source": [
    "## (2) 데이터 분석 및 시각화\n",
    "## (2-1) 행복 점수와 기능의 상관관계\n",
    "##       한 국가의 행복지수와 경제적(GDP), 법적 상태(Freedom)는 상관관계가 있는가?"
   ]
  },
  {
   "cell_type": "code",
   "execution_count": 11,
   "metadata": {
    "colab": {
     "base_uri": "https://localhost:8080/",
     "height": 455
    },
    "id": "CT7LFeLsyL0a",
    "outputId": "a3fc807a-a1b5-4e19-eebd-35fb8be04f9a"
   },
   "outputs": [
    {
     "data": {
      "text/html": [
       "<div>\n",
       "<style scoped>\n",
       "    .dataframe tbody tr th:only-of-type {\n",
       "        vertical-align: middle;\n",
       "    }\n",
       "\n",
       "    .dataframe tbody tr th {\n",
       "        vertical-align: top;\n",
       "    }\n",
       "\n",
       "    .dataframe thead th {\n",
       "        text-align: right;\n",
       "    }\n",
       "</style>\n",
       "<table border=\"1\" class=\"dataframe\">\n",
       "  <thead>\n",
       "    <tr style=\"text-align: right;\">\n",
       "      <th></th>\n",
       "      <th>Country</th>\n",
       "      <th>Score</th>\n",
       "      <th>GDP.per.capita</th>\n",
       "      <th>Freedom</th>\n",
       "    </tr>\n",
       "    <tr>\n",
       "      <th>Rank</th>\n",
       "      <th></th>\n",
       "      <th></th>\n",
       "      <th></th>\n",
       "      <th></th>\n",
       "    </tr>\n",
       "  </thead>\n",
       "  <tbody>\n",
       "    <tr>\n",
       "      <th>1</th>\n",
       "      <td>Finland</td>\n",
       "      <td>7.8087</td>\n",
       "      <td>10.639267</td>\n",
       "      <td>0.949172</td>\n",
       "    </tr>\n",
       "    <tr>\n",
       "      <th>2</th>\n",
       "      <td>Denmark</td>\n",
       "      <td>7.6456</td>\n",
       "      <td>10.774001</td>\n",
       "      <td>0.951444</td>\n",
       "    </tr>\n",
       "    <tr>\n",
       "      <th>3</th>\n",
       "      <td>Switzerland</td>\n",
       "      <td>7.5599</td>\n",
       "      <td>10.979933</td>\n",
       "      <td>0.921337</td>\n",
       "    </tr>\n",
       "    <tr>\n",
       "      <th>4</th>\n",
       "      <td>Iceland</td>\n",
       "      <td>7.5045</td>\n",
       "      <td>10.772559</td>\n",
       "      <td>0.948892</td>\n",
       "    </tr>\n",
       "    <tr>\n",
       "      <th>5</th>\n",
       "      <td>Norway</td>\n",
       "      <td>7.4880</td>\n",
       "      <td>11.087804</td>\n",
       "      <td>0.955750</td>\n",
       "    </tr>\n",
       "  </tbody>\n",
       "</table>\n",
       "</div>"
      ],
      "text/plain": [
       "          Country   Score  GDP.per.capita   Freedom\n",
       "Rank                                               \n",
       "1         Finland  7.8087       10.639267  0.949172\n",
       "2         Denmark  7.6456       10.774001  0.951444\n",
       "3     Switzerland  7.5599       10.979933  0.921337\n",
       "4         Iceland  7.5045       10.772559  0.948892\n",
       "5          Norway  7.4880       11.087804  0.955750"
      ]
     },
     "execution_count": 11,
     "metadata": {},
     "output_type": "execute_result"
    }
   ],
   "source": [
    "# 2020년 데이터 전처리\n",
    "df1 = df2020.copy()\n",
    "df1.drop(['Social.support', 'Life.expectancy', 'Generosity'], axis=1, inplace=True)\n",
    "df1.head()"
   ]
  },
  {
   "cell_type": "code",
   "execution_count": 12,
   "metadata": {
    "colab": {
     "base_uri": "https://localhost:8080/"
    },
    "id": "1YaBDmPz0Rph",
    "outputId": "c6c86faa-892f-4345-c37c-f20a300eb42c"
   },
   "outputs": [
    {
     "data": {
      "text/plain": [
       "Score             1.000000\n",
       "GDP.per.capita    0.775374\n",
       "Freedom           0.590597\n",
       "Name: Score, dtype: float64"
      ]
     },
     "execution_count": 12,
     "metadata": {},
     "output_type": "execute_result"
    }
   ],
   "source": [
    "# 상관관계 : 2020년 데이터\n",
    "# 행복지수와 GDP 간 상관계수는 0.78로, 강한 양의 상관관계임\n",
    "# 행복지수와 Freedom 간 상관계수는 0.59로, 뚜렷한 양의 상관관계임\n",
    "corr = df1.select_dtypes(include='number').corr()\n",
    "corr['Score'].sort_values(ascending=False)"
   ]
  },
  {
   "cell_type": "code",
   "execution_count": 13,
   "metadata": {
    "colab": {
     "base_uri": "https://localhost:8080/",
     "height": 396
    },
    "id": "c5g_b7Ay0Z5C",
    "outputId": "1fea0f58-6f93-485a-99ac-b96a11707f92"
   },
   "outputs": [
    {
     "data": {
      "image/png": "[encoded data removed]",
      "text/plain": [
       "<Figure size 600x400 with 2 Axes>"
      ]
     },
     "metadata": {},
     "output_type": "display_data"
    }
   ],
   "source": [
    "# 히트맵 : 2020년 데이터\n",
    "plt.figure(figsize=(6, 4))\n",
    "sns.heatmap(corr, annot=True, cmap='Blues')\n",
    "plt.show()"
   ]
  },
  {
   "cell_type": "code",
   "execution_count": 14,
   "metadata": {
    "colab": {
     "base_uri": "https://localhost:8080/",
     "height": 455
    },
    "id": "Cm-C6BWN04yw",
    "outputId": "0ea7568e-a5df-4655-e6ce-94e8f9283b2a"
   },
   "outputs": [
    {
     "data": {
      "text/html": [
       "<div>\n",
       "<style scoped>\n",
       "    .dataframe tbody tr th:only-of-type {\n",
       "        vertical-align: middle;\n",
       "    }\n",
       "\n",
       "    .dataframe tbody tr th {\n",
       "        vertical-align: top;\n",
       "    }\n",
       "\n",
       "    .dataframe thead th {\n",
       "        text-align: right;\n",
       "    }\n",
       "</style>\n",
       "<table border=\"1\" class=\"dataframe\">\n",
       "  <thead>\n",
       "    <tr style=\"text-align: right;\">\n",
       "      <th></th>\n",
       "      <th>Country</th>\n",
       "      <th>Score</th>\n",
       "      <th>GDP.per.capita</th>\n",
       "      <th>Freedom</th>\n",
       "    </tr>\n",
       "    <tr>\n",
       "      <th>Rank</th>\n",
       "      <th></th>\n",
       "      <th></th>\n",
       "      <th></th>\n",
       "      <th></th>\n",
       "    </tr>\n",
       "  </thead>\n",
       "  <tbody>\n",
       "    <tr>\n",
       "      <th>1</th>\n",
       "      <td>Finland</td>\n",
       "      <td>7.842</td>\n",
       "      <td>10.775</td>\n",
       "      <td>0.949</td>\n",
       "    </tr>\n",
       "    <tr>\n",
       "      <th>2</th>\n",
       "      <td>Denmark</td>\n",
       "      <td>7.620</td>\n",
       "      <td>10.933</td>\n",
       "      <td>0.946</td>\n",
       "    </tr>\n",
       "    <tr>\n",
       "      <th>3</th>\n",
       "      <td>Switzerland</td>\n",
       "      <td>7.571</td>\n",
       "      <td>11.117</td>\n",
       "      <td>0.919</td>\n",
       "    </tr>\n",
       "    <tr>\n",
       "      <th>4</th>\n",
       "      <td>Iceland</td>\n",
       "      <td>7.554</td>\n",
       "      <td>10.878</td>\n",
       "      <td>0.955</td>\n",
       "    </tr>\n",
       "    <tr>\n",
       "      <th>5</th>\n",
       "      <td>Netherlands</td>\n",
       "      <td>7.464</td>\n",
       "      <td>10.932</td>\n",
       "      <td>0.913</td>\n",
       "    </tr>\n",
       "  </tbody>\n",
       "</table>\n",
       "</div>"
      ],
      "text/plain": [
       "          Country  Score  GDP.per.capita  Freedom\n",
       "Rank                                             \n",
       "1         Finland  7.842          10.775    0.949\n",
       "2         Denmark  7.620          10.933    0.946\n",
       "3     Switzerland  7.571          11.117    0.919\n",
       "4         Iceland  7.554          10.878    0.955\n",
       "5     Netherlands  7.464          10.932    0.913"
      ]
     },
     "execution_count": 14,
     "metadata": {},
     "output_type": "execute_result"
    }
   ],
   "source": [
    "# 2021년 데이터 전처리\n",
    "df2 = df2021.copy()\n",
    "df2.drop(['Social.support', 'Life.expectancy', 'Generosity'], axis=1, inplace=True)\n",
    "df2.head()"
   ]
  },
  {
   "cell_type": "code",
   "execution_count": 15,
   "metadata": {
    "colab": {
     "base_uri": "https://localhost:8080/",
     "height": 396
    },
    "id": "ts-OMnpI08Qf",
    "outputId": "527bf3ad-18b0-4c08-f947-f4710782c25f"
   },
   "outputs": [
    {
     "data": {
      "image/png": "[encoded data removed]",
      "text/plain": [
       "<Figure size 600x400 with 2 Axes>"
      ]
     },
     "metadata": {},
     "output_type": "display_data"
    }
   ],
   "source": [
    "# 히트맵 : 2021년 데이터\n",
    "# 행복지수와 GDP 간 상관계수는 0.79로, 강한 양의 상관관계임\n",
    "# 헹복지수와 Freedom 간 상관계수는 0.61로, 뚜렷한 양의 상관관계임\n",
    "plt.figure(figsize=(6, 4))\n",
    "sns.heatmap(df2.select_dtypes(include='number').corr(), annot=True, cmap='PuBuGn')\n",
    "plt.show()"
   ]
  },
  {
   "cell_type": "markdown",
   "metadata": {
    "colab": {
     "base_uri": "https://localhost:8080/",
     "height": 90
    },
    "id": "7AA7H7MS1Unn",
    "outputId": "b500db45-8c78-4b57-fd66-b3d8981da07d"
   },
   "source": [
    "<br>\n",
    "\n",
    "##### **결과 및 시사점**\n",
    "+ 행복지수와 GDP 간 관계는?\n",
    "  + 상관계수는 2020년 0.78, 2021년 0.79로, 강한 양의 상관관계로 나타남\n",
    "  + 경제 성장은 보통 더 높은 소득과 향상된 생활 수준으로 이어지므로, 국민의 행복 수준도 높아지는 경향이 있음\n",
    "  + 따라서 국민의 행복을 보장하기 위해, 국가의 GDP는 주요 우선순위 중 하나로 고려될 필요가 있음\n",
    "\n",
    "<br>\n",
    "\n",
    "+ 행복지수와 인생 선택의 자유 간 관계는?\n",
    "  + 상관계수는 2020년 0.59, 2021년 0.61로, 뚜렷한 양의 상관관계로 나타남\n",
    "  + 자유에 대한 인식은 지역과 문화에 따라 다양하기 때문에 일반화하기는 어려움\n",
    "  + 그럼에도 불구하고, 개인이 삶을 선택할 자유를 얼마나 느끼는지는 국민의 행복 수준에 중요한 영향을 미침\n",
    "\n",
    "<br>"
   ]
  },
  {
   "cell_type": "code",
   "execution_count": 16,
   "metadata": {},
   "outputs": [],
   "source": [
    "## (2-2) 행복 점수와 사회적 상태의 상관관계\n",
    "##       한 국가의 행복지수와 사회적 상태(Social.support)는 상관관계가 있는가?"
   ]
  },
  {
   "cell_type": "code",
   "execution_count": 17,
   "metadata": {
    "id": "T2LGcuVV3TSh"
   },
   "outputs": [],
   "source": [
    "# 데이터 전처리\n",
    "x1 = df2020[['Generosity', 'Social.support', 'Score']].copy()\n",
    "x2 = df2021[['Generosity', 'Social.support', 'Score']].copy()"
   ]
  },
  {
   "cell_type": "code",
   "execution_count": 18,
   "metadata": {
    "colab": {
     "base_uri": "https://localhost:8080/",
     "height": 396
    },
    "id": "CL2al6AV3z3o",
    "outputId": "39598e30-19d0-4ab4-f764-c4c3a14e4106"
   },
   "outputs": [
    {
     "data": {
      "image/png": "[encoded data removed]",
      "text/plain": [
       "<Figure size 600x400 with 2 Axes>"
      ]
     },
     "metadata": {},
     "output_type": "display_data"
    }
   ],
   "source": [
    "# 히트맵 : 2020년 데이터\n",
    "a1 = x1.corr()\n",
    "plt.figure(figsize=(6, 4))\n",
    "sns.heatmap(a1, annot=True)\n",
    "plt.show()"
   ]
  },
  {
   "cell_type": "code",
   "execution_count": 19,
   "metadata": {
    "colab": {
     "base_uri": "https://localhost:8080/",
     "height": 396
    },
    "id": "usU8uI_p3-To",
    "outputId": "7e6a7a6f-c64b-4f8e-b17d-6229b5a0c18d"
   },
   "outputs": [
    {
     "data": {
      "image/png": "[encoded data removed]",
      "text/plain": [
       "<Figure size 600x400 with 2 Axes>"
      ]
     },
     "metadata": {},
     "output_type": "display_data"
    }
   ],
   "source": [
    "# 히트맵 : 2021년 데이터\n",
    "a2 = x2.corr()\n",
    "plt.figure(figsize=(6, 4))\n",
    "sns.heatmap(a2, annot=True, cmap='GnBu')\n",
    "plt.show()"
   ]
  },
  {
   "cell_type": "markdown",
   "metadata": {
    "colab": {
     "base_uri": "https://localhost:8080/",
     "height": 72
    },
    "id": "zkgmiWku4X07",
    "outputId": "732d570f-9b0b-49f4-b5f8-96494f785204"
   },
   "source": [
    "<br>\n",
    "\n",
    "##### **결과 및 시사점**\n",
    "+ 행복지수와 사회적 지지 간 관계는?\n",
    "  + 상관계수는 2020년 0.77, 2021년 0.76으로, 강한 양의 상관관계로 나타남\n",
    "  + 사회적 지지는 가족, 친구, 지인 등과 함께하는 관계에서 느끼는 정서적 지원에 대한 인식을 의미함\n",
    "  + 일상 생활에서 가깝게 지내는 사람들과의 관계에서 형성되므로, 사회적 지지는 행복 수준에 중요햔 요소임을 알 수 있음\n",
    "\n",
    "<br>\n",
    "\n",
    "+ 행복지수와 기부 문화 간 관계는?\n",
    "  + 상관계수는 2020년 0.069, 2021년 -0.018로, 상관관계가 거의 없는 것으로 나타남\n",
    "  + 따라서 기부 문화가 행복 수준과 직접적인 관련이 거의 없음을 확인할 수 있음\n",
    "\n",
    "<br>"
   ]
  },
  {
   "cell_type": "code",
   "execution_count": 20,
   "metadata": {},
   "outputs": [],
   "source": [
    "## (2-3) 행복 점수와 전체 변수의 상관관계"
   ]
  },
  {
   "cell_type": "code",
   "execution_count": 21,
   "metadata": {
    "colab": {
     "base_uri": "https://localhost:8080/",
     "height": 580
    },
    "id": "jQiBKtdK9xc4",
    "outputId": "89e4c1ce-cda8-45fe-ba81-a03ef2ac6e2b"
   },
   "outputs": [
    {
     "data": {
      "image/png": "[encoded data removed]",
      "text/plain": [
       "<Figure size 800x600 with 2 Axes>"
      ]
     },
     "metadata": {},
     "output_type": "display_data"
    }
   ],
   "source": [
    "# 전체 상관계수 : 2020년 데이터\n",
    "corr = df2020.select_dtypes(include='number').corr()\n",
    "\n",
    "plt.figure(figsize=(8, 6))\n",
    "upp_mat = np.triu(corr)\n",
    "sns.heatmap(corr, mask=upp_mat,vmin=-1, vmax=1, annot=True, cmap ='RdYlBu_r', linewidths=4)\n",
    "plt.xticks(rotation=45)\n",
    "plt.show()"
   ]
  },
  {
   "cell_type": "code",
   "execution_count": 22,
   "metadata": {
    "colab": {
     "base_uri": "https://localhost:8080/",
     "height": 580
    },
    "id": "PDJ5ptqhty-M",
    "outputId": "6763809e-1524-4ab4-ad4f-75b0fea1da10"
   },
   "outputs": [
    {
     "data": {
      "image/png": "[encoded data removed]",
      "text/plain": [
       "<Figure size 800x600 with 2 Axes>"
      ]
     },
     "metadata": {},
     "output_type": "display_data"
    }
   ],
   "source": [
    "# 전체 상관계수 : 2021년 데이터\n",
    "corr = df2021.select_dtypes(include='number').corr()\n",
    "\n",
    "plt.figure(figsize=(8, 6))\n",
    "upp_mat = np.triu(corr)\n",
    "sns.heatmap(corr, mask=upp_mat, vmin=-1, vmax=1,annot = True, cmap ='PiYG', linewidths=4)\n",
    "plt.xticks(rotation=45)\n",
    "plt.show()"
   ]
  },
  {
   "cell_type": "markdown",
   "metadata": {},
   "source": [
    "<br>\n",
    "\n",
    "##### **결과 및 시사점**\n",
    "+ 행복지수에 가장 큰 영향을 미치는 요인은 경제적 여유(GDP, 0.79), 건강(0.77), 사회적 지지(0.76), 선택에 대한 자유도(0.61) 순으로 나타남\n",
    "+ 기부 활동과 행복지수는 뚜렷한 관련이 없는 것으로 나타남\n",
    "+ 1인당 GDP와 건강한 기대수명은 강한 양의 상관관계(0.86)가 있으므로, 경제적으로 여유로운 사람들이 더 건강하게 사는 경향이 있음을 알 수 있음\n",
    "\n",
    "<br>"
   ]
  },
  {
   "attachments": {},
   "cell_type": "markdown",
   "metadata": {
    "id": "8t0eeXcztazk"
   },
   "source": [
    "<br>\n",
    "\n",
    "## 8.2. 회귀분석\n",
    "+ 회귀분석(regression analysis)\n",
    "  + 하나 이상의 독립변수(x)가 종속변수(y)에 미치는 영향력의 크기를 수학적 관계식으로 추정하는 통계 기법\n",
    "    + 독립변수(independent variable) : 다른 변수의 변화를 야기하는 변수\n",
    "    + 종속변수(dependent variable) : 다른 변수의 영향으로 변화하는 변수\n",
    "  + 독립변수의 특정 값에 대응하는 종속변수의 값을 예측할 수 있음\n",
    "  + 독립변수 개수에 따른 구분\n",
    "    + 단순선형 회귀분석(simple linear regression) : 독립변수가 1개인 경우\n",
    "    + 다중선형 회귀분석(multiple linear regression) : 독립변수가 2개인 경우\n",
    "\n",
    "<br>"
   ]
  },
  {
   "attachments": {},
   "cell_type": "markdown",
   "metadata": {},
   "source": [
    "### 8.2.1. 단순선형 회귀분석\n",
    "+ 단순선형 회귀분석\n",
    "  + 하나의 독립변수가 종속변수에 영향을 미치는 회귀모형\n",
    "    + 예 : 공부 시간(독립변수)에 따른 시험 성적(종속변수)의 변화\n",
    "  + 단순선형 회귀모형\n",
    "      $$y = \\beta_0 + \\beta_1x + \\epsilon$$\n",
    "    + $\\beta_0$ : 절편(intercept)\n",
    "    + $\\beta_1$ : 기울기(slope), 독립변수가 1단위 증가할 때 y의 평균적인 변화량\n",
    "    + $\\epsilon$ : 오차(error)\n",
    "  + 회귀분석의 목적은 주어진 데이터를 가장 잘 설명하는 회귀선을 찾는 것\n",
    "      $$\\hat{y} = b_0 + b_1x$$\n",
    "    + 일반적으로 오차의 제곱합을 최소화하는 최소제곱추정법(OLS; Ordinary Least Squares)을 사용함\n",
    "\n",
    "<br>\n",
    "\n",
    "+ 잔차(residual) : 관측값과 예측값의 차이, $y-\\hat{y}$\n",
    "+ 결정계수 $R^2$\n",
    "  + 회귀모형이 데이터를 얼마나 잘 설명하는지 나타내는 지표\n",
    "  + 잔차의 크기가 작을수록 모형의 설명력이 높음\n",
    "  + 결정계수는 0~1사이의 값을 가지며, 1에 가까울 때 예측의 정밀도가 높음\n",
    "\n",
    "<br>\n",
    "\n",
    "![](./images/fig3-8.jpg)\n",
    "\n",
    "<br>"
   ]
  },
  {
   "cell_type": "code",
   "execution_count": 23,
   "metadata": {
    "colab": {
     "base_uri": "https://localhost:8080/"
    },
    "id": "hROvTIR0E4pa",
    "outputId": "95eb937b-50ac-4d19-f23d-253c64964d6c"
   },
   "outputs": [],
   "source": [
    "# 한글 깨짐 현상에 대한 해결 방법\n",
    "import matplotlib.pyplot as plt\n",
    "import matplotlib as mpl\n",
    "\n",
    "plt.rc('font', family='Malgun Gothic')\n",
    "mpl.rcParams['axes.unicode_minus'] = False"
   ]
  },
  {
   "cell_type": "code",
   "execution_count": 24,
   "metadata": {},
   "outputs": [],
   "source": [
    "# scikit-learn 설치하기\n",
    "#!pip install scikit-learn"
   ]
  },
  {
   "cell_type": "code",
   "execution_count": 25,
   "metadata": {},
   "outputs": [],
   "source": [
    "# sklearn의 linear_model 모듈에서 LinearRegression 클래스 불러오기\n",
    "from sklearn.linear_model import LinearRegression"
   ]
  },
  {
   "cell_type": "code",
   "execution_count": 26,
   "metadata": {
    "colab": {
     "base_uri": "https://localhost:8080/",
     "height": 284
    },
    "id": "M1nG_93ttaNT",
    "outputId": "335bc256-09d0-4957-876a-a5e82538df4e"
   },
   "outputs": [
    {
     "data": {
      "image/png": "[encoded data removed]",
      "text/plain": [
       "<Figure size 500x300 with 1 Axes>"
      ]
     },
     "metadata": {},
     "output_type": "display_data"
    },
    {
     "name": "stdout",
     "output_type": "stream",
     "text": [
      "[94.3]\n"
     ]
    }
   ],
   "source": [
    "## 공부 시간(독립변수)에 따른 시험 성적(종속변수)의 변화\n",
    "# 데이터프레임 생성\n",
    "data = pd.DataFrame({\n",
    "    'study_time': [2, 4, 6, 8, 10],\n",
    "    'score': [81, 93, 90, 97, 100]\n",
    "})\n",
    "\n",
    "# 산점도 : 두 변수 간 상관관계 확인\n",
    "plt.figure(figsize=(5, 3))\n",
    "plt.scatter(data['study_time'], data['score'])\n",
    "plt.xlabel('Study Time (hours)')\n",
    "plt.ylabel('Score')\n",
    "plt.show()\n",
    "\n",
    "# 독립변수, 종속변수 분리\n",
    "# scikit-Learn에서 입력 데이터(feature)를 2차원 배열로 요구함\n",
    "X = data[['study_time']]\n",
    "y = data['score']\n",
    "\n",
    "# 선형 회귀모형 객체 생성 및 학습\n",
    "model = LinearRegression()\n",
    "model.fit(X, y)\n",
    "\n",
    "# 7시간 공부했을 때, 시험 점수 예측\n",
    "newdata = pd.DataFrame({'study_time': [7]})\n",
    "predicted_score = model.predict(newdata)\n",
    "print(predicted_score)"
   ]
  },
  {
   "cell_type": "markdown",
   "metadata": {
    "id": "TUPPQ1CHz_C3"
   },
   "source": [
    "<br>\n",
    "\n",
    "### 8.2.2. (실습) 날씨 데이터 분석\n",
    "+ \\[데이터\\] 기상자료개방포털에서 제공하는 서울특별시의 기상 관측 데이터\n",
    "  + 기간 : 2010년 1월 ~ 2020년 12월\n",
    "  + 변수 : 날짜, 지점, 평균기온(℃), 최저기온(℃), 최고기온(℃)\n",
    "  + \\[실습파일\\] [(2010-2020)_weather.csv](./data/(2010-2020)_weather.csv)\n",
    "\n",
    "<br>\n",
    "\n",
    "> **2021년 8월 15일의 평균기온을 예측하면?**\n",
    "\n",
    "<br>"
   ]
  },
  {
   "cell_type": "code",
   "execution_count": 27,
   "metadata": {},
   "outputs": [],
   "source": [
    "## (1) 데이터 확인 및 전처리"
   ]
  },
  {
   "cell_type": "code",
   "execution_count": 28,
   "metadata": {
    "colab": {
     "base_uri": "https://localhost:8080/",
     "height": 206
    },
    "id": "h1rmG8t2vQ5k",
    "outputId": "dc49c261-2a1a-44b9-ce50-e9adc107ba3d"
   },
   "outputs": [
    {
     "data": {
      "text/html": [
       "<div>\n",
       "<style scoped>\n",
       "    .dataframe tbody tr th:only-of-type {\n",
       "        vertical-align: middle;\n",
       "    }\n",
       "\n",
       "    .dataframe tbody tr th {\n",
       "        vertical-align: top;\n",
       "    }\n",
       "\n",
       "    .dataframe thead th {\n",
       "        text-align: right;\n",
       "    }\n",
       "</style>\n",
       "<table border=\"1\" class=\"dataframe\">\n",
       "  <thead>\n",
       "    <tr style=\"text-align: right;\">\n",
       "      <th></th>\n",
       "      <th>날짜</th>\n",
       "      <th>지점</th>\n",
       "      <th>평균기온(℃)</th>\n",
       "      <th>최저기온(℃)</th>\n",
       "      <th>최고기온(℃)</th>\n",
       "    </tr>\n",
       "  </thead>\n",
       "  <tbody>\n",
       "    <tr>\n",
       "      <th>0</th>\n",
       "      <td>2010-01-01</td>\n",
       "      <td>108</td>\n",
       "      <td>-7.6</td>\n",
       "      <td>-12.7</td>\n",
       "      <td>-3.6</td>\n",
       "    </tr>\n",
       "    <tr>\n",
       "      <th>1</th>\n",
       "      <td>2010-01-02</td>\n",
       "      <td>108</td>\n",
       "      <td>-3.6</td>\n",
       "      <td>-7.4</td>\n",
       "      <td>0.2</td>\n",
       "    </tr>\n",
       "    <tr>\n",
       "      <th>2</th>\n",
       "      <td>2010-01-03</td>\n",
       "      <td>108</td>\n",
       "      <td>-6.8</td>\n",
       "      <td>-10.5</td>\n",
       "      <td>-3.2</td>\n",
       "    </tr>\n",
       "    <tr>\n",
       "      <th>3</th>\n",
       "      <td>2010-01-04</td>\n",
       "      <td>108</td>\n",
       "      <td>-5.9</td>\n",
       "      <td>-8.0</td>\n",
       "      <td>-3.4</td>\n",
       "    </tr>\n",
       "    <tr>\n",
       "      <th>4</th>\n",
       "      <td>2010-01-05</td>\n",
       "      <td>108</td>\n",
       "      <td>-9.9</td>\n",
       "      <td>-12.3</td>\n",
       "      <td>-7.0</td>\n",
       "    </tr>\n",
       "  </tbody>\n",
       "</table>\n",
       "</div>"
      ],
      "text/plain": [
       "           날짜   지점  평균기온(℃)  최저기온(℃)  최고기온(℃)\n",
       "0  2010-01-01  108     -7.6    -12.7     -3.6\n",
       "1  2010-01-02  108     -3.6     -7.4      0.2\n",
       "2  2010-01-03  108     -6.8    -10.5     -3.2\n",
       "3  2010-01-04  108     -5.9     -8.0     -3.4\n",
       "4  2010-01-05  108     -9.9    -12.3     -7.0"
      ]
     },
     "execution_count": 28,
     "metadata": {},
     "output_type": "execute_result"
    }
   ],
   "source": [
    "# 데이터 불러오기\n",
    "seoul = pd.read_csv('./data/(2010-2020)_weather.csv', encoding='cp949')\n",
    "seoul.head()"
   ]
  },
  {
   "cell_type": "code",
   "execution_count": 29,
   "metadata": {
    "colab": {
     "base_uri": "https://localhost:8080/"
    },
    "id": "7JEfxP-Z0bYC",
    "outputId": "902c1364-a0b4-4a7f-cf8a-a263b754c28b"
   },
   "outputs": [
    {
     "name": "stdout",
     "output_type": "stream",
     "text": [
      "<class 'pandas.core.frame.DataFrame'>\n",
      "RangeIndex: 4018 entries, 0 to 4017\n",
      "Data columns (total 5 columns):\n",
      " #   Column   Non-Null Count  Dtype  \n",
      "---  ------   --------------  -----  \n",
      " 0   날짜       4018 non-null   object \n",
      " 1   지점       4018 non-null   int64  \n",
      " 2   평균기온(℃)  4018 non-null   float64\n",
      " 3   최저기온(℃)  4018 non-null   float64\n",
      " 4   최고기온(℃)  4017 non-null   float64\n",
      "dtypes: float64(3), int64(1), object(1)\n",
      "memory usage: 157.1+ KB\n"
     ]
    }
   ],
   "source": [
    "# 데이터 정보\n",
    "seoul.info()"
   ]
  },
  {
   "cell_type": "code",
   "execution_count": 30,
   "metadata": {
    "colab": {
     "base_uri": "https://localhost:8080/",
     "height": 300
    },
    "id": "TmMdJPccAv8n",
    "outputId": "c6830bc4-d3ce-454e-bd38-4dca4e077ee0"
   },
   "outputs": [
    {
     "data": {
      "text/html": [
       "<div>\n",
       "<style scoped>\n",
       "    .dataframe tbody tr th:only-of-type {\n",
       "        vertical-align: middle;\n",
       "    }\n",
       "\n",
       "    .dataframe tbody tr th {\n",
       "        vertical-align: top;\n",
       "    }\n",
       "\n",
       "    .dataframe thead th {\n",
       "        text-align: right;\n",
       "    }\n",
       "</style>\n",
       "<table border=\"1\" class=\"dataframe\">\n",
       "  <thead>\n",
       "    <tr style=\"text-align: right;\">\n",
       "      <th></th>\n",
       "      <th>지점</th>\n",
       "      <th>평균기온(℃)</th>\n",
       "      <th>최저기온(℃)</th>\n",
       "      <th>최고기온(℃)</th>\n",
       "    </tr>\n",
       "  </thead>\n",
       "  <tbody>\n",
       "    <tr>\n",
       "      <th>count</th>\n",
       "      <td>4018.0</td>\n",
       "      <td>4018.000000</td>\n",
       "      <td>4018.000000</td>\n",
       "      <td>4017.000000</td>\n",
       "    </tr>\n",
       "    <tr>\n",
       "      <th>mean</th>\n",
       "      <td>108.0</td>\n",
       "      <td>12.965207</td>\n",
       "      <td>8.991015</td>\n",
       "      <td>17.699627</td>\n",
       "    </tr>\n",
       "    <tr>\n",
       "      <th>std</th>\n",
       "      <td>0.0</td>\n",
       "      <td>10.803691</td>\n",
       "      <td>10.932678</td>\n",
       "      <td>10.976719</td>\n",
       "    </tr>\n",
       "    <tr>\n",
       "      <th>min</th>\n",
       "      <td>108.0</td>\n",
       "      <td>-14.800000</td>\n",
       "      <td>-18.000000</td>\n",
       "      <td>-10.700000</td>\n",
       "    </tr>\n",
       "    <tr>\n",
       "      <th>25%</th>\n",
       "      <td>108.0</td>\n",
       "      <td>3.700000</td>\n",
       "      <td>-0.300000</td>\n",
       "      <td>8.200000</td>\n",
       "    </tr>\n",
       "    <tr>\n",
       "      <th>50%</th>\n",
       "      <td>108.0</td>\n",
       "      <td>14.250000</td>\n",
       "      <td>9.800000</td>\n",
       "      <td>19.600000</td>\n",
       "    </tr>\n",
       "    <tr>\n",
       "      <th>75%</th>\n",
       "      <td>108.0</td>\n",
       "      <td>22.800000</td>\n",
       "      <td>18.900000</td>\n",
       "      <td>27.400000</td>\n",
       "    </tr>\n",
       "    <tr>\n",
       "      <th>max</th>\n",
       "      <td>108.0</td>\n",
       "      <td>33.700000</td>\n",
       "      <td>30.300000</td>\n",
       "      <td>39.600000</td>\n",
       "    </tr>\n",
       "  </tbody>\n",
       "</table>\n",
       "</div>"
      ],
      "text/plain": [
       "           지점      평균기온(℃)      최저기온(℃)      최고기온(℃)\n",
       "count  4018.0  4018.000000  4018.000000  4017.000000\n",
       "mean    108.0    12.965207     8.991015    17.699627\n",
       "std       0.0    10.803691    10.932678    10.976719\n",
       "min     108.0   -14.800000   -18.000000   -10.700000\n",
       "25%     108.0     3.700000    -0.300000     8.200000\n",
       "50%     108.0    14.250000     9.800000    19.600000\n",
       "75%     108.0    22.800000    18.900000    27.400000\n",
       "max     108.0    33.700000    30.300000    39.600000"
      ]
     },
     "execution_count": 30,
     "metadata": {},
     "output_type": "execute_result"
    }
   ],
   "source": [
    "# 요약 통계량 확인\n",
    "seoul.describe()"
   ]
  },
  {
   "cell_type": "code",
   "execution_count": 31,
   "metadata": {
    "colab": {
     "base_uri": "https://localhost:8080/",
     "height": 206
    },
    "id": "VREGHxGr1F5Q",
    "outputId": "42231b19-0426-49b4-c906-6c20b2a5fed5"
   },
   "outputs": [],
   "source": [
    "# 데이터 전처리 : 열 삭제\n",
    "seoul.drop('지점', axis=1, inplace=True)"
   ]
  },
  {
   "cell_type": "code",
   "execution_count": 32,
   "metadata": {
    "colab": {
     "base_uri": "https://localhost:8080/"
    },
    "id": "x2DYa1kI0-iL",
    "outputId": "8b9d95a6-bdea-487e-d060-3b45bc116568"
   },
   "outputs": [],
   "source": [
    "# 데이터 전처리 : 열 이름 변경\n",
    "seoul.columns = ['날짜', '평균기온', '최저기온', '최고기온']"
   ]
  },
  {
   "cell_type": "code",
   "execution_count": 33,
   "metadata": {
    "colab": {
     "base_uri": "https://localhost:8080/"
    },
    "id": "R5tQlmw5A3TA",
    "outputId": "e4ea8196-6997-4c6c-c78e-34573b6d419f"
   },
   "outputs": [
    {
     "data": {
      "text/plain": [
       "날짜      0\n",
       "평균기온    0\n",
       "최저기온    0\n",
       "최고기온    1\n",
       "dtype: int64"
      ]
     },
     "execution_count": 33,
     "metadata": {},
     "output_type": "execute_result"
    }
   ],
   "source": [
    "# 데이터 전처리 : 결측값 확인\n",
    "seoul.isnull().sum()"
   ]
  },
  {
   "cell_type": "code",
   "execution_count": 34,
   "metadata": {
    "id": "IrabFjiAA7u7"
   },
   "outputs": [],
   "source": [
    "# 데이터 전처리 : 결측값이 포함된 행 삭제\n",
    "seoul.dropna(axis=0, inplace=True)"
   ]
  },
  {
   "cell_type": "code",
   "execution_count": 35,
   "metadata": {},
   "outputs": [],
   "source": [
    "# 데이터 전처리 : 날짜 변수를 datetime 형식으로 변환\n",
    "seoul['날짜'] = pd.to_datetime(seoul['날짜'])"
   ]
  },
  {
   "cell_type": "code",
   "execution_count": 36,
   "metadata": {
    "colab": {
     "base_uri": "https://localhost:8080/",
     "height": 206
    },
    "id": "CuWWybRc1k3Q",
    "outputId": "8901d1c8-b6db-45fd-e593-8206aec4128e"
   },
   "outputs": [
    {
     "data": {
      "text/html": [
       "<div>\n",
       "<style scoped>\n",
       "    .dataframe tbody tr th:only-of-type {\n",
       "        vertical-align: middle;\n",
       "    }\n",
       "\n",
       "    .dataframe tbody tr th {\n",
       "        vertical-align: top;\n",
       "    }\n",
       "\n",
       "    .dataframe thead th {\n",
       "        text-align: right;\n",
       "    }\n",
       "</style>\n",
       "<table border=\"1\" class=\"dataframe\">\n",
       "  <thead>\n",
       "    <tr style=\"text-align: right;\">\n",
       "      <th></th>\n",
       "      <th>날짜</th>\n",
       "      <th>평균기온</th>\n",
       "      <th>최저기온</th>\n",
       "      <th>최고기온</th>\n",
       "      <th>연도</th>\n",
       "      <th>월</th>\n",
       "      <th>일</th>\n",
       "    </tr>\n",
       "  </thead>\n",
       "  <tbody>\n",
       "    <tr>\n",
       "      <th>0</th>\n",
       "      <td>2010-01-01</td>\n",
       "      <td>-7.6</td>\n",
       "      <td>-12.7</td>\n",
       "      <td>-3.6</td>\n",
       "      <td>2010</td>\n",
       "      <td>1</td>\n",
       "      <td>1</td>\n",
       "    </tr>\n",
       "    <tr>\n",
       "      <th>1</th>\n",
       "      <td>2010-01-02</td>\n",
       "      <td>-3.6</td>\n",
       "      <td>-7.4</td>\n",
       "      <td>0.2</td>\n",
       "      <td>2010</td>\n",
       "      <td>1</td>\n",
       "      <td>2</td>\n",
       "    </tr>\n",
       "    <tr>\n",
       "      <th>2</th>\n",
       "      <td>2010-01-03</td>\n",
       "      <td>-6.8</td>\n",
       "      <td>-10.5</td>\n",
       "      <td>-3.2</td>\n",
       "      <td>2010</td>\n",
       "      <td>1</td>\n",
       "      <td>3</td>\n",
       "    </tr>\n",
       "    <tr>\n",
       "      <th>3</th>\n",
       "      <td>2010-01-04</td>\n",
       "      <td>-5.9</td>\n",
       "      <td>-8.0</td>\n",
       "      <td>-3.4</td>\n",
       "      <td>2010</td>\n",
       "      <td>1</td>\n",
       "      <td>4</td>\n",
       "    </tr>\n",
       "    <tr>\n",
       "      <th>4</th>\n",
       "      <td>2010-01-05</td>\n",
       "      <td>-9.9</td>\n",
       "      <td>-12.3</td>\n",
       "      <td>-7.0</td>\n",
       "      <td>2010</td>\n",
       "      <td>1</td>\n",
       "      <td>5</td>\n",
       "    </tr>\n",
       "  </tbody>\n",
       "</table>\n",
       "</div>"
      ],
      "text/plain": [
       "          날짜  평균기온  최저기온  최고기온    연도  월  일\n",
       "0 2010-01-01  -7.6 -12.7  -3.6  2010  1  1\n",
       "1 2010-01-02  -3.6  -7.4   0.2  2010  1  2\n",
       "2 2010-01-03  -6.8 -10.5  -3.2  2010  1  3\n",
       "3 2010-01-04  -5.9  -8.0  -3.4  2010  1  4\n",
       "4 2010-01-05  -9.9 -12.3  -7.0  2010  1  5"
      ]
     },
     "execution_count": 36,
     "metadata": {},
     "output_type": "execute_result"
    }
   ],
   "source": [
    "# 데이터 전처리 : 새로운 변수(연도, 월, 일) 생성\n",
    "seoul['연도'] = seoul['날짜'].dt.year\n",
    "seoul['월']=seoul['날짜'].dt.month\n",
    "seoul['일']=seoul['날짜'].dt.day\n",
    "seoul.head()"
   ]
  },
  {
   "cell_type": "code",
   "execution_count": 37,
   "metadata": {
    "colab": {
     "base_uri": "https://localhost:8080/",
     "height": 394
    },
    "id": "Wui0DtP12e9l",
    "outputId": "53f26329-fc14-44f2-f9d6-de3efaf776bd"
   },
   "outputs": [
    {
     "data": {
      "text/html": [
       "<div>\n",
       "<style scoped>\n",
       "    .dataframe tbody tr th:only-of-type {\n",
       "        vertical-align: middle;\n",
       "    }\n",
       "\n",
       "    .dataframe tbody tr th {\n",
       "        vertical-align: top;\n",
       "    }\n",
       "\n",
       "    .dataframe thead th {\n",
       "        text-align: right;\n",
       "    }\n",
       "</style>\n",
       "<table border=\"1\" class=\"dataframe\">\n",
       "  <thead>\n",
       "    <tr style=\"text-align: right;\">\n",
       "      <th></th>\n",
       "      <th>날짜</th>\n",
       "      <th>평균기온</th>\n",
       "      <th>최저기온</th>\n",
       "      <th>최고기온</th>\n",
       "      <th>연도</th>\n",
       "      <th>월</th>\n",
       "      <th>일</th>\n",
       "    </tr>\n",
       "  </thead>\n",
       "  <tbody>\n",
       "    <tr>\n",
       "      <th>226</th>\n",
       "      <td>2010-08-15</td>\n",
       "      <td>26.6</td>\n",
       "      <td>24.6</td>\n",
       "      <td>30.2</td>\n",
       "      <td>2010</td>\n",
       "      <td>8</td>\n",
       "      <td>15</td>\n",
       "    </tr>\n",
       "    <tr>\n",
       "      <th>591</th>\n",
       "      <td>2011-08-15</td>\n",
       "      <td>24.5</td>\n",
       "      <td>22.9</td>\n",
       "      <td>26.9</td>\n",
       "      <td>2011</td>\n",
       "      <td>8</td>\n",
       "      <td>15</td>\n",
       "    </tr>\n",
       "    <tr>\n",
       "      <th>957</th>\n",
       "      <td>2012-08-15</td>\n",
       "      <td>23.7</td>\n",
       "      <td>22.4</td>\n",
       "      <td>27.1</td>\n",
       "      <td>2012</td>\n",
       "      <td>8</td>\n",
       "      <td>15</td>\n",
       "    </tr>\n",
       "    <tr>\n",
       "      <th>1322</th>\n",
       "      <td>2013-08-15</td>\n",
       "      <td>28.7</td>\n",
       "      <td>25.8</td>\n",
       "      <td>32.4</td>\n",
       "      <td>2013</td>\n",
       "      <td>8</td>\n",
       "      <td>15</td>\n",
       "    </tr>\n",
       "    <tr>\n",
       "      <th>1687</th>\n",
       "      <td>2014-08-15</td>\n",
       "      <td>24.9</td>\n",
       "      <td>20.9</td>\n",
       "      <td>29.6</td>\n",
       "      <td>2014</td>\n",
       "      <td>8</td>\n",
       "      <td>15</td>\n",
       "    </tr>\n",
       "    <tr>\n",
       "      <th>2052</th>\n",
       "      <td>2015-08-15</td>\n",
       "      <td>27.1</td>\n",
       "      <td>23.1</td>\n",
       "      <td>30.8</td>\n",
       "      <td>2015</td>\n",
       "      <td>8</td>\n",
       "      <td>15</td>\n",
       "    </tr>\n",
       "    <tr>\n",
       "      <th>2418</th>\n",
       "      <td>2016-08-15</td>\n",
       "      <td>29.1</td>\n",
       "      <td>25.8</td>\n",
       "      <td>34.0</td>\n",
       "      <td>2016</td>\n",
       "      <td>8</td>\n",
       "      <td>15</td>\n",
       "    </tr>\n",
       "    <tr>\n",
       "      <th>2783</th>\n",
       "      <td>2017-08-15</td>\n",
       "      <td>21.9</td>\n",
       "      <td>20.8</td>\n",
       "      <td>24.0</td>\n",
       "      <td>2017</td>\n",
       "      <td>8</td>\n",
       "      <td>15</td>\n",
       "    </tr>\n",
       "    <tr>\n",
       "      <th>3148</th>\n",
       "      <td>2018-08-15</td>\n",
       "      <td>31.7</td>\n",
       "      <td>28.3</td>\n",
       "      <td>38.0</td>\n",
       "      <td>2018</td>\n",
       "      <td>8</td>\n",
       "      <td>15</td>\n",
       "    </tr>\n",
       "    <tr>\n",
       "      <th>3513</th>\n",
       "      <td>2019-08-15</td>\n",
       "      <td>25.9</td>\n",
       "      <td>23.9</td>\n",
       "      <td>28.6</td>\n",
       "      <td>2019</td>\n",
       "      <td>8</td>\n",
       "      <td>15</td>\n",
       "    </tr>\n",
       "    <tr>\n",
       "      <th>3879</th>\n",
       "      <td>2020-08-15</td>\n",
       "      <td>26.1</td>\n",
       "      <td>25.0</td>\n",
       "      <td>27.0</td>\n",
       "      <td>2020</td>\n",
       "      <td>8</td>\n",
       "      <td>15</td>\n",
       "    </tr>\n",
       "  </tbody>\n",
       "</table>\n",
       "</div>"
      ],
      "text/plain": [
       "             날짜  평균기온  최저기온  최고기온    연도  월   일\n",
       "226  2010-08-15  26.6  24.6  30.2  2010  8  15\n",
       "591  2011-08-15  24.5  22.9  26.9  2011  8  15\n",
       "957  2012-08-15  23.7  22.4  27.1  2012  8  15\n",
       "1322 2013-08-15  28.7  25.8  32.4  2013  8  15\n",
       "1687 2014-08-15  24.9  20.9  29.6  2014  8  15\n",
       "2052 2015-08-15  27.1  23.1  30.8  2015  8  15\n",
       "2418 2016-08-15  29.1  25.8  34.0  2016  8  15\n",
       "2783 2017-08-15  21.9  20.8  24.0  2017  8  15\n",
       "3148 2018-08-15  31.7  28.3  38.0  2018  8  15\n",
       "3513 2019-08-15  25.9  23.9  28.6  2019  8  15\n",
       "3879 2020-08-15  26.1  25.0  27.0  2020  8  15"
      ]
     },
     "execution_count": 37,
     "metadata": {},
     "output_type": "execute_result"
    }
   ],
   "source": [
    "# 데이터 전처리 : 8월 15일 데이터 선택\n",
    "conditions = (seoul['월']==8) & (seoul['일']==15)\n",
    "seoul0815 = seoul[conditions]\n",
    "seoul0815"
   ]
  },
  {
   "cell_type": "markdown",
   "metadata": {},
   "source": [
    "<br>"
   ]
  },
  {
   "cell_type": "code",
   "execution_count": 38,
   "metadata": {},
   "outputs": [],
   "source": [
    "## (2) 데이터 분석 및 시각화"
   ]
  },
  {
   "cell_type": "code",
   "execution_count": 39,
   "metadata": {
    "colab": {
     "base_uri": "https://localhost:8080/",
     "height": 444
    },
    "id": "HAenOhGPCZqh",
    "outputId": "fa6db2f3-aae3-40ba-9d84-f7b94500f121"
   },
   "outputs": [
    {
     "data": {
      "image/png": "[encoded data removed]",
      "text/plain": [
       "<Figure size 500x300 with 1 Axes>"
      ]
     },
     "metadata": {},
     "output_type": "display_data"
    }
   ],
   "source": [
    "# 산점도 : 연도에 따른 평균기온 변화\n",
    "# 독립변수, 종속변수 분리\n",
    "# scikit-Learn에서 입력 데이터(feature)를 2차원 배열로 요구함\n",
    "X = seoul0815[['연도']]\n",
    "y = seoul0815['평균기온']\n",
    "\n",
    "fig = plt.figure(figsize=(5, 3))\n",
    "plt.scatter(X, y)\n",
    "plt.xlabel('연도')\n",
    "plt.ylabel('평균기온')\n",
    "plt.show()"
   ]
  },
  {
   "cell_type": "code",
   "execution_count": 40,
   "metadata": {},
   "outputs": [
    {
     "data": {
      "text/html": [
       "<div>\n",
       "<style scoped>\n",
       "    .dataframe tbody tr th:only-of-type {\n",
       "        vertical-align: middle;\n",
       "    }\n",
       "\n",
       "    .dataframe tbody tr th {\n",
       "        vertical-align: top;\n",
       "    }\n",
       "\n",
       "    .dataframe thead th {\n",
       "        text-align: right;\n",
       "    }\n",
       "</style>\n",
       "<table border=\"1\" class=\"dataframe\">\n",
       "  <thead>\n",
       "    <tr style=\"text-align: right;\">\n",
       "      <th></th>\n",
       "      <th>연도</th>\n",
       "      <th>평균기온</th>\n",
       "    </tr>\n",
       "  </thead>\n",
       "  <tbody>\n",
       "    <tr>\n",
       "      <th>연도</th>\n",
       "      <td>1.000000</td>\n",
       "      <td>0.194953</td>\n",
       "    </tr>\n",
       "    <tr>\n",
       "      <th>평균기온</th>\n",
       "      <td>0.194953</td>\n",
       "      <td>1.000000</td>\n",
       "    </tr>\n",
       "  </tbody>\n",
       "</table>\n",
       "</div>"
      ],
      "text/plain": [
       "            연도      평균기온\n",
       "연도    1.000000  0.194953\n",
       "평균기온  0.194953  1.000000"
      ]
     },
     "execution_count": 40,
     "metadata": {},
     "output_type": "execute_result"
    }
   ],
   "source": [
    "# 상관계수 : 연도와 평균기온의 상관관계\n",
    "# 연도와 평균기온은 약한 양의 상관관계로 나타나, 단순선형 회귀모형을 적합할 수 있음\n",
    "seoul0815[['연도', '평균기온']].corr()"
   ]
  },
  {
   "cell_type": "code",
   "execution_count": 41,
   "metadata": {
    "colab": {
     "base_uri": "https://localhost:8080/"
    },
    "id": "f1falNzP81Mo",
    "outputId": "66db6211-3aa9-4cbd-8efe-db76ed76883e"
   },
   "outputs": [
    {
     "name": "stdout",
     "output_type": "stream",
     "text": [
      "회귀식: hat(y) = -297.85 + 0.16*x\n",
      "결정계수 : 0.038\n",
      "2021년 8월 15일 평균기온 예측값 : 27.51\n"
     ]
    }
   ],
   "source": [
    "# 단순선형 회귀분석 : 2021년 8월 15일 평균기온 예측\n",
    "# 선형 회귀모형 객체 생성 및 학습\n",
    "model = LinearRegression()\n",
    "model.fit(X, y)\n",
    "\n",
    "# 회귀식의 절편 및 기울기\n",
    "intercept = model.intercept_\n",
    "slope = model.coef_\n",
    "print(f'회귀식: hat(y) = {model.intercept_:.2f} + {model.coef_[0]:.2f}*x')\n",
    "\n",
    "# 결정계수\n",
    "R2 = model.score(X, y)\n",
    "print(f'결정계수 : {R2:.3f}')\n",
    "\n",
    "# 2021년일 때, 평균기온 예측\n",
    "newdata = pd.DataFrame({'연도': [2022]})\n",
    "predicted_value = model.predict(newdata)\n",
    "print(f'2021년 8월 15일 평균기온 예측값 : {predicted_value[0]:.2f}')"
   ]
  },
  {
   "cell_type": "code",
   "execution_count": 42,
   "metadata": {
    "colab": {
     "base_uri": "https://localhost:8080/",
     "height": 444
    },
    "id": "yFcZihpw-tz4",
    "outputId": "424da7f2-7af4-405b-b458-45cd6b67b4f7"
   },
   "outputs": [
    {
     "data": {
      "image/png": "[encoded data removed]",
      "text/plain": [
       "<Figure size 500x300 with 1 Axes>"
      ]
     },
     "metadata": {},
     "output_type": "display_data"
    }
   ],
   "source": [
    "# 산점도와 단순선형 회귀선\n",
    "fig = plt.figure(figsize=(5, 3))   \n",
    "sns.regplot(x='연도', y='평균기온', data=seoul0815)\n",
    "plt.grid()\n",
    "plt.show()"
   ]
  },
  {
   "cell_type": "markdown",
   "metadata": {},
   "source": [
    "<br>\n",
    "\n",
    "##### **결과 및 시사점**\n",
    "+ 연도와 평균기온은 약한 양의 상관관계(r=0.195)로 나타나, 단순선형 회귀모형을 적합할 수 있음\n",
    "+ 독립변수는 연도, 종속변수는 평균기온으로 단순선형 회귀분석을 실시한 결과, 모형의 설명력은 3.8%로 비교적 낮게 나타남\n",
    "+ 적합된 회귀식 : $\\hat{y} = -297.85 + 0.16*x$\n",
    "  + 연도가 1년 증가할수록 8월 15일의 평균기온은 약 0.16℃ 상승하는 것으로 추정됨\n",
    "+ 따라서 2021년 8월 15일의 평균기온은 27.51℃로 예측됨\n",
    "\n",
    "<br>"
   ]
  }
 ],
 "metadata": {
  "colab": {
   "provenance": [],
   "toc_visible": true
  },
  "kernelspec": {
   "display_name": "Python 3 (ipykernel)",
   "language": "python",
   "name": "python3"
  },
  "language_info": {
   "codemirror_mode": {
    "name": "ipython",
    "version": 3
   },
   "file_extension": ".py",
   "mimetype": "text/x-python",
   "name": "python",
   "nbconvert_exporter": "python",
   "pygments_lexer": "ipython3",
   "version": "3.9.21"
  }
 },
 "nbformat": 4,
 "nbformat_minor": 4
}
