{
 "cells": [
  {
   "cell_type": "markdown",
   "id": "1655e50b-a432-4510-b395-bef78515f909",
   "metadata": {},
   "source": [
    "<h1>2. 기초 문법</h1>"
   ]
  },
  {
   "cell_type": "markdown",
   "id": "f5c4410f-a685-4464-969c-a35bf848eeae",
   "metadata": {},
   "source": [
    "## 2.1. 변수\n",
    "+ 변수(variable)\n",
    "  + 값을 저장하는 공간\n",
    "  + (할당) `변수명` = 값\n",
    "\n",
    "<br>\n",
    "\n",
    "+ 변수의 특징\n",
    "  + 일시적으로 자료를 저장하는 공간으로, 변수에 저장된 값은 변할 수 있음\n",
    "  + 숫자, 문자열 등 모든 자료형을 저장할 수 있고, 다른 변수의 값도 저장할 수 있음\n",
    "  + 변수는 사용되기 전에 반드시 할당되어 있어야 함\n",
    "\n",
    "<br>\n",
    "\n",
    "+ 변수명 작성 규칙\n",
    "  1. 영문자, 숫자, `_`로 구성될 수 있으며, 첫 글자는 반드시 영문자나 `_`로 시작함\n",
    "  2. 공백을 포함할 수 없음\n",
    "  3. 대문자와 소문자를 구별함\n",
    "  4. Python에서 다른 용도로 사용되는 예약어는 사용할 수 없음\n",
    "\n",
    "<br>"
   ]
  },
  {
   "cell_type": "code",
   "execution_count": 1,
   "id": "5464273a-a6bc-4160-a947-a498e5ff3f15",
   "metadata": {},
   "outputs": [
    {
     "name": "stdout",
     "output_type": "stream",
     "text": [
      "100\n"
     ]
    }
   ],
   "source": [
    "# 변수 생성1 : 숫자\n",
    "a = 100\n",
    "print(a)"
   ]
  },
  {
   "cell_type": "code",
   "execution_count": 2,
   "id": "035a0ccd-6d03-41c4-a8c0-5f2c34d74aac",
   "metadata": {},
   "outputs": [
    {
     "name": "stdout",
     "output_type": "stream",
     "text": [
      "100\n",
      "150\n"
     ]
    }
   ],
   "source": [
    "# 변수 사용\n",
    "print(a)\n",
    "a = a + 50\n",
    "print(a)"
   ]
  },
  {
   "cell_type": "code",
   "execution_count": 3,
   "id": "f08c9a99-2a46-415e-806c-63440da55e96",
   "metadata": {},
   "outputs": [
    {
     "name": "stdout",
     "output_type": "stream",
     "text": [
      "이순신 서울시\n"
     ]
    }
   ],
   "source": [
    "# 변수 생성2 : 문자열\n",
    "name = '이순신'\n",
    "addr = \"서울시\"\n",
    "print(name, addr)"
   ]
  },
  {
   "cell_type": "code",
   "execution_count": 4,
   "id": "69d4752e-c95a-476a-b79e-bfcdab8d0a62",
   "metadata": {},
   "outputs": [
    {
     "name": "stdout",
     "output_type": "stream",
     "text": [
      "['False', 'None', 'True', '__peg_parser__', 'and', 'as', 'assert', 'async', 'await', 'break', 'class', 'continue', 'def', 'del', 'elif', 'else', 'except', 'finally', 'for', 'from', 'global', 'if', 'import', 'in', 'is', 'lambda', 'nonlocal', 'not', 'or', 'pass', 'raise', 'return', 'try', 'while', 'with', 'yield']\n"
     ]
    }
   ],
   "source": [
    "# 예약어\n",
    "import keyword\n",
    "print(keyword.kwlist)"
   ]
  },
  {
   "cell_type": "markdown",
   "id": "93a01027-504d-4c3e-9dbe-75b2fb3382e1",
   "metadata": {},
   "source": [
    "<br>\n",
    "\n",
    "+ \\[Note\\] 주석(comment)\n",
    "  + 프로그램 안에서 코드가 아닌 텍스트로 작성되며, 프로그램 실행 시 무시됨\n",
    "  + 코드의 기능을 설명하거나 알아야할 사항을 기록할 때 사용함\n",
    "  + 한 줄 주석 처리 : `# comment`\n",
    "  + 여러 줄 주석 처리 : `''' comment '''`, `\"\"\" comment \"\"\"`\n",
    "\n",
    "<br>\n",
    "\n",
    "+ \\[Note\\] 기본 자료형\n",
    "\n",
    "|자료형|의미|예시|\n",
    "|:---:|:------|:------|\n",
    "|int|integer, 정수|100|\n",
    "|float|float, 부동 소수점|95.7|\n",
    "|str|string, 문자열|'Lee'|\n",
    "|bool|boolean, 부울|True <br>False|\n",
    "\n",
    "<br>"
   ]
  },
  {
   "cell_type": "code",
   "execution_count": 5,
   "id": "50921776-59c2-407f-acd2-6d71768ed08c",
   "metadata": {},
   "outputs": [
    {
     "name": "stdout",
     "output_type": "stream",
     "text": [
      "<class 'int'>\n",
      "<class 'float'>\n",
      "<class 'str'>\n",
      "<class 'bool'>\n",
      "<class 'bool'>\n"
     ]
    }
   ],
   "source": [
    "# 기본 자료형\n",
    "print(type(100))\n",
    "print(type(95.7))\n",
    "print(type('Lee'))\n",
    "print(type(True))\n",
    "print(type(False))"
   ]
  },
  {
   "cell_type": "markdown",
   "id": "069f26cd-355b-4790-a5f9-d625a4d37152",
   "metadata": {},
   "source": [
    "<br>\n",
    "\n",
    "## 2.2. 연산자\n",
    "### 2.2.1. 산술 연산자\n",
    "\n",
    "|연산자|의미|예시|결과|\n",
    "|:---:|:------|:------|------:|\n",
    "|+|더하기|10+20|30|\n",
    "|-|빼기|10-20|-10|\n",
    "|*|곱하기|10*20|200|\n",
    "|/|나누기|10/20|0.5|\n",
    "|//|나눈 정수 몫|10//20|0|\n",
    "|%|나눈 나머지|10%20|10|\n",
    "|**|거듭제곱|10**2|100|"
   ]
  },
  {
   "cell_type": "markdown",
   "id": "62d96575-8627-46c3-a07b-0af2222f6725",
   "metadata": {},
   "source": [
    "<br>\n",
    "\n",
    "### 2.2.2. 대입 연산자\n",
    "+ 변수에 값을 할당(assignment)하는 연산자\n",
    "+ 기본적으로 `=`를 사용하며, 산술 연산자와 함께 사용하면 할당을 보다 간결하게 할 수 있음\n",
    "\n",
    "\n",
    "|연산자|의미|예시|\n",
    "|:---:|:------------------|:------|\n",
    "|=|왼쪽 변수에 오른쪽 값을 할당|x=10|\n",
    "|+=|왼쪽 변수에 오른쪽 값을 더하고 결과를 왼쪽 변수에 할당|x+=10|\n",
    "|-=|왼쪽 변수에 오른쪽 값을 빼고 결과를 왼쪽 변수에 할당|x-=10|\n",
    "|\\*=|왼쪽 변수에 오른쪽 값을 곱하고 결과를 왼쪽 변수에 할당|x\\*=10|\n",
    "|/=|왼쪽 변수에 오른쪽 값을 나눈 결과를 왼쪽 변수에 할당|x/=10|\n",
    "|//=|왼쪽 변수에 오른쪽 값을 나눈 몫의 결과를 왼쪽 변수에 할당|x//=10|\n",
    "|%=|왼쪽 변수에 오른쪽 값을 나눈 나머지의 결과를 왼쪽 변수에 할당|x%=10|\n",
    "|**=|왼쪽 변수에 오른쪽 값만큼 거듭제곱을 하고 결과를 왼쪽 변수에 할당|x\\*\\*=2|"
   ]
  },
  {
   "cell_type": "markdown",
   "id": "36162244-e83b-4e18-90cd-1e9faafee826",
   "metadata": {},
   "source": [
    "<br>\n",
    "\n",
    "### 2.2.3. 비교 연산자\n",
    "+ 두 개 이상의 식 또는 변수의 비교를 위해 사용하는 연산자\n",
    "+ 결과는 참(True) 또는 거짓(False)으로 나타남\n",
    "+ 단독으로 사용되는 경우보다는 주로 조건문과 반복문에서 사용됨\n",
    "\n",
    "\n",
    "|연산자|의미|예시|결과|\n",
    "|:---:|:------------------|:------|:------|\n",
    "|==|값이 동일하다|10==20|False|\n",
    "|!=|값이 동일하지 않다|10!=20|True|\n",
    "|>|왼쪽 값이 오른쪽 값보다 크다|10>20|False|\n",
    "|>=|왼쪽 값이 오른쪽 값보다 크거나 동일하다|10>=20|False|\n",
    "|<|왼쪽 값이 오른쪽 값보다 작다|10<20|True|\n",
    "|<=|왼쪽 값이 오른쪽 값보다 작거나 동일하다|10<=20|True|"
   ]
  },
  {
   "cell_type": "markdown",
   "id": "8da1dac2-f864-423c-9248-35da5eae7e4f",
   "metadata": {},
   "source": [
    "<br>\n",
    "\n",
    "### 2.2.4. 논리 연산자\n",
    "+ 참(True)과 거짓(False)의 논리 동작을 다루는 연산자\n",
    "+ 여러 조건을 조합할 때 주로 사용됨\n",
    "\n",
    "|연산자|의미|예시|결과|\n",
    "|:---:|:------------------|:------|:---|\n",
    "|and|논리 AND 연산, 왼쪽 식과 오른쪽 식 모두 참인 경우에만 True|a=25 <br>print(a>8 and a<60)|True|\n",
    "|or|논리 OR 연산, 왼쪽 식과 오른쪽 식 중 하나라도 참인 경우에만 True|a=70 <br>print(a<8 or a>=60)|True|\n",
    "|not|논리 NOT 연산, 오른쪽 식이 참이면 False, 거짓이면 True|a=20 <br>print(not a==20)|False|"
   ]
  },
  {
   "cell_type": "markdown",
   "id": "990ba467-c11a-4fd7-a784-c363797b1404",
   "metadata": {},
   "source": [
    "\n",
    "<br>\n",
    "\n",
    "## 2.3. 표준 입출력\n",
    "+ 표준 입력\n",
    "  + 사용자로부터 값을 입력받기 위해 `input() 함수`를 사용함\n",
    "  + `input()` 함수는 안내문을 출력한 후 사용자의 입력을 기다리며, 입력한 값을 문자열로 저장함\n",
    "  + 입력한 값을 숫자로 사용하려면 `int()`, `float()` 함수를 이용하여 형 변환해야 함\n",
    "  + `변수 = input(안내문)`\n",
    "\n",
    "<br>\n",
    "\n",
    "+ 표준 출력\n",
    "  + 값을 출력하기 위해 `print()` 함수를 사용함\n",
    "  + 여러 값을 `,`로 구분하여 출력할 수 있음\n",
    "  + f-string 포맷팅\n",
    "    + 문자열 맨 앞에 f를 붙이고 `{}` 안에 변수명을 직접 작성하여 출력하는 방식\n",
    "    + 가독성이 좋고 사용 방법이 간단하여 자주 사용됨\n",
    "\n",
    "<br>"
   ]
  },
  {
   "cell_type": "code",
   "execution_count": 6,
   "id": "a37c853e-cfe6-442c-b417-4947fd900ce2",
   "metadata": {},
   "outputs": [],
   "source": [
    "# 표준 입출력\n",
    "#x = int(input('첫 번째 숫자 입력 : '))\n",
    "#y = int(input('두 번째 숫자 입력 : '))\n",
    "#print('두 수의 합 : ', x, ' + ', y, ' = ', x+y)"
   ]
  },
  {
   "cell_type": "code",
   "execution_count": 7,
   "id": "69adf5d4-6040-42cf-a688-3f548bc1b6bc",
   "metadata": {},
   "outputs": [],
   "source": [
    "# f-string 포맷팅\n",
    "#print(f'두 수의 차 : {x} - {y} = {x-y}')"
   ]
  },
  {
   "cell_type": "markdown",
   "id": "66fe1d3c-4f94-48da-9724-5080c2e2ee0a",
   "metadata": {},
   "source": [
    "<br>\n",
    "\n",
    "## 2.4. 컬렉션 자료형\n",
    "### 2.4.1. 컬렉션 자료형\n",
    "+ 컬렉션 자료형(collection data type)\n",
    "  + 여러 개의 값을 하나의 변수에 저장할 수 있는 자료형\n",
    "  + 대표적으로 리스트(list), 튜플(tuple), 딕셔너리(dictionary), 세트(set)가 있음"
   ]
  },
  {
   "cell_type": "markdown",
   "id": "7b28fc8a-57d6-4758-a9b3-2b5f6fd6c9d2",
   "metadata": {},
   "source": [
    "<br>\n",
    "\n",
    "### 2.4.2. 리스트\n",
    "+ 리스트(list)\n",
    "  + 여러 개의 값을 저장할 수 있는 자료구조로, `[]` 안에 값을 `,`로 구분하여 나열함\n",
    "  + 숫자형, 문자열, 리스트 등 서로 다른 자료형을 함께 저장할 수 있음\n",
    "  + 순서가 있는(ordered) 구조로, 인덱스(index)를 통해 각 요소에 접근할 수 있음\n",
    "    + 인덱싱(indexing) : `[index]`를 사용하여 리스트의 특정 위치에 있는 요소에 접근함\n",
    "    + 슬라이싱(slicing) : `[start:stop]`를 사용하여 리스트의 일부 요소에 접근함\n",
    "  + 한 번 생성한 후에도 값을 추가, 변경, 삭제할 수 있음\n",
    "\n",
    "<br>"
   ]
  },
  {
   "cell_type": "code",
   "execution_count": 8,
   "id": "269a6df1-b216-4c59-aec8-59c37d9a954a",
   "metadata": {},
   "outputs": [
    {
     "name": "stdout",
     "output_type": "stream",
     "text": [
      "[10, 20, 30]\n"
     ]
    }
   ],
   "source": [
    "# 리스트 생성1\n",
    "x = [10, 20, 30]\n",
    "print(x)"
   ]
  },
  {
   "cell_type": "code",
   "execution_count": 9,
   "id": "d84e7ea5-f3bd-4689-a445-89ffb4df9776",
   "metadata": {},
   "outputs": [
    {
     "name": "stdout",
     "output_type": "stream",
     "text": [
      "[3.14, 'Park', [1, 2, 3], [10, 20, 30]]\n"
     ]
    }
   ],
   "source": [
    "# 리스트 생성2\n",
    "y = [3.14, 'Park', [1, 2, 3], x]\n",
    "print(y)"
   ]
  },
  {
   "cell_type": "code",
   "execution_count": 10,
   "id": "c8018d42-b4f3-44e7-a4e7-598e5882abc4",
   "metadata": {},
   "outputs": [
    {
     "data": {
      "text/plain": [
       "15"
      ]
     },
     "execution_count": 10,
     "metadata": {},
     "output_type": "execute_result"
    }
   ],
   "source": [
    "# 리스트 인덱싱1 : 첫 번째 값 가져오기\n",
    "x = [15, 25, 35, 45]\n",
    "x[0]"
   ]
  },
  {
   "cell_type": "code",
   "execution_count": 11,
   "id": "f620cd41-354f-4e15-9c3f-0fcd060cdd2a",
   "metadata": {},
   "outputs": [
    {
     "data": {
      "text/plain": [
       "45"
      ]
     },
     "execution_count": 11,
     "metadata": {},
     "output_type": "execute_result"
    }
   ],
   "source": [
    "# 리스트 인덱싱2 : 마지막 값 가져오기\n",
    "x[-1]"
   ]
  },
  {
   "cell_type": "code",
   "execution_count": 12,
   "id": "eba63d9a-2358-4917-878b-2effdfa7b586",
   "metadata": {},
   "outputs": [
    {
     "data": {
      "text/plain": [
       "[10, 20]"
      ]
     },
     "execution_count": 12,
     "metadata": {},
     "output_type": "execute_result"
    }
   ],
   "source": [
    "# 리스트 슬라이싱1 : (stop index)는 포함하지 않음\n",
    "x = [10, 20, 30, [40, 50]]\n",
    "x[0:2]"
   ]
  },
  {
   "cell_type": "code",
   "execution_count": 13,
   "id": "96aaaf63-3758-455a-946c-4a96257d1426",
   "metadata": {},
   "outputs": [
    {
     "data": {
      "text/plain": [
       "[20, 30, [40, 50]]"
      ]
     },
     "execution_count": 13,
     "metadata": {},
     "output_type": "execute_result"
    }
   ],
   "source": [
    "# 리스트 슬라이싱2\n",
    "x[1:]"
   ]
  },
  {
   "cell_type": "code",
   "execution_count": 14,
   "id": "e710c203-661f-401a-8b4a-8c41d8eb0d11",
   "metadata": {},
   "outputs": [
    {
     "data": {
      "text/plain": [
       "[10, 20]"
      ]
     },
     "execution_count": 14,
     "metadata": {},
     "output_type": "execute_result"
    }
   ],
   "source": [
    "# 리스트 슬라이싱3\n",
    "x[:2]"
   ]
  },
  {
   "cell_type": "code",
   "execution_count": 15,
   "id": "e8979c41-fa87-47b3-9499-64506dd5fbc2",
   "metadata": {},
   "outputs": [
    {
     "name": "stdout",
     "output_type": "stream",
     "text": [
      "[40, 50]\n",
      "40\n"
     ]
    }
   ],
   "source": [
    "# 리스트 슬라이싱4 : 이중 리스트 슬라이싱\n",
    "print(x[3])\n",
    "print(x[3][0])"
   ]
  },
  {
   "cell_type": "code",
   "execution_count": 16,
   "id": "05587911-932b-456a-95ab-dd9ce879d968",
   "metadata": {},
   "outputs": [
    {
     "name": "stdout",
     "output_type": "stream",
     "text": [
      "[10, 20, 30]\n",
      "[50, 20, 30]\n",
      "[50, 90, 100]\n"
     ]
    }
   ],
   "source": [
    "# 리스트 변경\n",
    "x = [10, 20, 30]\n",
    "print(x)\n",
    "\n",
    "x[0] = 50\n",
    "print(x)\n",
    "\n",
    "x[1:3] = [90, 100]\n",
    "print(x)"
   ]
  },
  {
   "cell_type": "markdown",
   "id": "7a09d87e-01c0-4cbd-b851-b76622002309",
   "metadata": {},
   "source": [
    "<br>\n",
    "\n",
    "### 2.4.3. 튜플\n",
    "+ 튜플(tuple)\n",
    "  + 여러 개의 값을 저장할 수 있는 자료구조로, `()` 안에 값을 `,`로 구분하여 나열함\n",
    "  + 대부분 리스트와 비슷하지만, 한 번 저장한 값은 수정할 수 없음\n",
    "\n",
    "<br>"
   ]
  },
  {
   "cell_type": "code",
   "execution_count": 17,
   "id": "8b2bdadf-2604-4894-b9d9-e85b7391ef6c",
   "metadata": {},
   "outputs": [
    {
     "name": "stdout",
     "output_type": "stream",
     "text": [
      "()\n"
     ]
    }
   ],
   "source": [
    "# 튜플 생성1 : 빈 튜플 생성\n",
    "x = ()                                                            # x = tuple()\n",
    "print(x)"
   ]
  },
  {
   "cell_type": "code",
   "execution_count": 18,
   "id": "49bb5b4c-86f4-46bf-84cd-bf698da93e2a",
   "metadata": {},
   "outputs": [
    {
     "name": "stdout",
     "output_type": "stream",
     "text": [
      "(1, 2, 3)\n"
     ]
    }
   ],
   "source": [
    "# 튜플 생성2\n",
    "x = (1, 2, 3)\n",
    "print(x)"
   ]
  },
  {
   "cell_type": "code",
   "execution_count": 19,
   "id": "0672f5d9-87f9-4d34-95f1-b1e7bb4e8731",
   "metadata": {},
   "outputs": [
    {
     "name": "stdout",
     "output_type": "stream",
     "text": [
      "(1, 2, 3)\n"
     ]
    }
   ],
   "source": [
    "# 튜플 생성3 : ()를 생략할 수 있음\n",
    "x = 1, 2, 3\n",
    "print(x)"
   ]
  },
  {
   "cell_type": "code",
   "execution_count": 20,
   "id": "9d4a3a27-d680-41f7-86df-ee4464bd8be9",
   "metadata": {},
   "outputs": [
    {
     "name": "stdout",
     "output_type": "stream",
     "text": [
      "(0, 1, 2, 3, 4, 5, 6, 7, 8, 9)\n"
     ]
    }
   ],
   "source": [
    "# 튜플 생성4 : 0에서 9까지 정수 생성\n",
    "x = tuple(range(10))\n",
    "print(x)"
   ]
  },
  {
   "cell_type": "code",
   "execution_count": 21,
   "id": "de14c567-4f95-4a00-8e1a-1b1537a48d80",
   "metadata": {},
   "outputs": [
    {
     "name": "stdout",
     "output_type": "stream",
     "text": [
      "('월', '화', '수', '목', '금', '토', '일')\n"
     ]
    }
   ],
   "source": [
    "# 튜플 생성5 : 리스트를 튜플로 자료형 변환\n",
    "x = ['월', '화', '수', '목', '금', '토', '일']\n",
    "x = tuple(x)\n",
    "print(x)"
   ]
  },
  {
   "cell_type": "code",
   "execution_count": 22,
   "id": "75a5152d-42c4-4f8f-a86c-52e70f97b0e9",
   "metadata": {},
   "outputs": [],
   "source": [
    "# 튜플 변경 : Error!\n",
    "#x = (10, 20, 30)\n",
    "#x[0] = 100"
   ]
  },
  {
   "cell_type": "code",
   "execution_count": 23,
   "id": "11398427-d4a2-4b22-a9fa-8b11b5cbce38",
   "metadata": {},
   "outputs": [
    {
     "data": {
      "text/plain": [
       "40"
      ]
     },
     "execution_count": 23,
     "metadata": {},
     "output_type": "execute_result"
    }
   ],
   "source": [
    "# 튜플 인덱싱\n",
    "x = (10, 20, 30, 40)\n",
    "x[-1]"
   ]
  },
  {
   "cell_type": "code",
   "execution_count": 24,
   "id": "ac844736-45de-4431-9c4b-4ddac1893140",
   "metadata": {},
   "outputs": [
    {
     "data": {
      "text/plain": [
       "(10, 20)"
      ]
     },
     "execution_count": 24,
     "metadata": {},
     "output_type": "execute_result"
    }
   ],
   "source": [
    "# 튜플 슬라이싱\n",
    "x[:2]"
   ]
  },
  {
   "cell_type": "markdown",
   "id": "b1bd4516-9aad-43d7-bc93-06c86fe2af31",
   "metadata": {},
   "source": [
    "<br>\n",
    "\n",
    "### 2.4.4. 딕셔너리\n",
    "+ 딕셔너리(dictionary)\n",
    "  + 연관된 값을 키-값(key-value) 쌍으로 저장하는 자료구조로, `{}` 안에 `key: value` 값을 `,`로 구분하여 나열함\n",
    "  + 리스트나 튜플과 달리, 인덱스가 아닌 키(key)를 통해 값(value)에 접근함\n",
    "\n",
    "<br>"
   ]
  },
  {
   "cell_type": "code",
   "execution_count": 25,
   "id": "0b378fe4-f56a-4c90-a75f-3bd6bdeed2ac",
   "metadata": {},
   "outputs": [
    {
     "name": "stdout",
     "output_type": "stream",
     "text": [
      "{}\n"
     ]
    }
   ],
   "source": [
    "# 딕셔너리 생성1 : 빈 딕셔너리 생성\n",
    "x = {}                                                            # x = dict()\n",
    "print(x)"
   ]
  },
  {
   "cell_type": "code",
   "execution_count": 26,
   "id": "1d9328f8-a369-4664-a98d-6216463f1d90",
   "metadata": {},
   "outputs": [
    {
     "name": "stdout",
     "output_type": "stream",
     "text": [
      "{'김밥': 3000, '라면': 5000}\n"
     ]
    }
   ],
   "source": [
    "# 딕셔너리 생성2\n",
    "menu = {'김밥': 3000, '라면': 5000}\n",
    "print(menu)"
   ]
  },
  {
   "cell_type": "code",
   "execution_count": 27,
   "id": "d281fecf-bfa8-4769-8aa9-9e4f0869767f",
   "metadata": {},
   "outputs": [
    {
     "data": {
      "text/plain": [
       "3000"
      ]
     },
     "execution_count": 27,
     "metadata": {},
     "output_type": "execute_result"
    }
   ],
   "source": [
    "# 딕셔너리 요소 접근1\n",
    "menu['김밥']"
   ]
  },
  {
   "cell_type": "code",
   "execution_count": 28,
   "id": "2738748b-5da8-4ffc-8304-e05852462e39",
   "metadata": {},
   "outputs": [
    {
     "name": "stdout",
     "output_type": "stream",
     "text": [
      "{'김밥': 3000, '라면': 5000, '어묵': 1500}\n"
     ]
    }
   ],
   "source": [
    "# 딕셔너리 요소 접근2\n",
    "menu['어묵'] = 1500\n",
    "print(menu)"
   ]
  },
  {
   "cell_type": "code",
   "execution_count": 29,
   "id": "226e2322-437f-42ae-9414-e0636ab2ac4b",
   "metadata": {},
   "outputs": [],
   "source": [
    "# 딕셔너리 요소 접근3 : Error!\n",
    "#menu['순대']"
   ]
  },
  {
   "cell_type": "markdown",
   "id": "8e657862-661a-42a6-a791-41368583240e",
   "metadata": {},
   "source": [
    "<br>\n",
    "\n",
    "### 2.4.5. 세트\n",
    "+ 세트(set)\n",
    "  + 집합에 관련된 것을 쉽게 처리하게 만든 자료구조로, `{}` 안에 값을 `,`로 구분하여 나열함\n",
    "  + 중복을 허용하지 않으며, 순서가 없어 인덱스로 각 요소에 접근할 수 없음\n",
    "\n",
    "<br>"
   ]
  },
  {
   "cell_type": "code",
   "execution_count": 30,
   "id": "fbc4737c-7162-4dc5-bc3b-7503f0e4e5d9",
   "metadata": {},
   "outputs": [
    {
     "name": "stdout",
     "output_type": "stream",
     "text": [
      "{10, 20, 30}\n"
     ]
    }
   ],
   "source": [
    "# 세트 생성1\n",
    "x = {10, 20, 30, 10}\n",
    "print(x)"
   ]
  },
  {
   "cell_type": "code",
   "execution_count": 31,
   "id": "1552bc44-47c4-44a6-befd-1db89013f286",
   "metadata": {},
   "outputs": [
    {
     "name": "stdout",
     "output_type": "stream",
     "text": [
      "{10, 20, 30}\n"
     ]
    }
   ],
   "source": [
    "# 세트 생성2\n",
    "x = set([10, 20, 30])\n",
    "print(x)"
   ]
  },
  {
   "cell_type": "markdown",
   "id": "389c7341-6d37-4f6b-9fb3-9b9f9bbccf3a",
   "metadata": {},
   "source": [
    "<br>\n",
    "\n",
    "## 2.5. 리스트 컴프리헨션\n",
    "+ 리스트 컴프리헨션(list comprehension)\n",
    "  + 원하는 자료들을 조회 또는 추출하여 리스트로 변환하는 표현식\n",
    "  + 조건식을 이용하여 같은 연산을 전체 항목이나 일부 항목에 적용할 수 있음\n",
    "\n",
    "<br>\n",
    "\n",
    "> **\\[표현식 for 변수 in 항목들 if 조건\\]**\n",
    "\n",
    "<br>\n",
    "\n",
    "+ 리스트 컴프리헨션 처리 과정\n",
    "  1. 항목들을 순차적으로 하나씩 꺼내옴\n",
    "  2. 조건식을 적용하여 해당 조건에 맞는 항목은 추출하고, 조건에 맞지 않으면 무시함\n",
    "  3. 위에서 추출한 항목을 리스트에 추가함\n",
    "\n",
    "\n",
    "<br>"
   ]
  },
  {
   "cell_type": "code",
   "execution_count": 32,
   "id": "cc98ef66-156c-4537-86d5-33704ac3b5df",
   "metadata": {},
   "outputs": [
    {
     "data": {
      "text/plain": [
       "[-15, -5, 5, 5, 15, 25]"
      ]
     },
     "execution_count": 32,
     "metadata": {},
     "output_type": "execute_result"
    }
   ],
   "source": [
    "# 리스트 컴프리헨션1 : 조건이 없는 경우\n",
    "num = [-20, -10, 0, 0, 10, 20]\n",
    "[x + 5 for x in num]"
   ]
  },
  {
   "cell_type": "code",
   "execution_count": 33,
   "id": "1e1d583d-fb90-468c-a504-1ec9302e8094",
   "metadata": {},
   "outputs": [
    {
     "data": {
      "text/plain": [
       "[0.1, 0.05]"
      ]
     },
     "execution_count": 33,
     "metadata": {},
     "output_type": "execute_result"
    }
   ],
   "source": [
    "# 리스트 컴프리헨션2 : 조건이 있는 경우\n",
    "[1/x for x in num if x>0]"
   ]
  },
  {
   "cell_type": "markdown",
   "id": "65e8972f-faf7-4318-8f3e-c5cdd84aa60f",
   "metadata": {},
   "source": [
    "<br>\n",
    "\n",
    "## 2.6. 선택문\n",
    "+ 선택문\n",
    "  + if 문을 이용하여 조건식이 True일 때만 코드를 실행하는 선택 구조\n",
    "\n",
    "![](./images/fig1-1.jpg){width=80%}\n",
    "![](./images/fig1-2.jpg){width=80%}\n",
    "![](./images/fig1-3.jpg){width=80%}\n",
    "![](./images/fig1-4.jpg){width=80%}"
   ]
  },
  {
   "cell_type": "code",
   "execution_count": 34,
   "id": "7834c841-dab3-454f-b025-10e77322655a",
   "metadata": {},
   "outputs": [
    {
     "name": "stdout",
     "output_type": "stream",
     "text": [
      "40 22\n"
     ]
    }
   ],
   "source": [
    "# 무작위로 1~100 사이의 두 정수를 생성한 후, 큰 수부터 작은 수 순으로 출력\n",
    "import random\n",
    "a = random.randint(1, 100)\n",
    "b = random.randint(1, 100)\n",
    "\n",
    "if a<b:\n",
    "    a, b = b, a\n",
    "\n",
    "print(a, b)"
   ]
  },
  {
   "cell_type": "markdown",
   "id": "d04cdf9a-7cf2-4509-bf7c-21fded20665d",
   "metadata": {},
   "source": [
    "<br>\n",
    "\n",
    "## 2.7. 반복문\n",
    "+ 반복문\n",
    "  + 일정한 횟수나 조건식을 만족하는 동안 코드를 반복 실행하는 제어 구조\n",
    "  + for 문 : 주어진 범위만큼 코드를 반복 실행\n",
    "  + while 문 : 조건식이 True인 동안 코드를 반복하다가, False가 되면 종료\n",
    "\n",
    "![](./images/fig1-5.jpg){width=80%}\n",
    "![](./images/fig1-6.jpg){width=80%}\n",
    "![](./images/fig1-7.jpg){width=80%}"
   ]
  },
  {
   "cell_type": "code",
   "execution_count": 35,
   "id": "5c8425ca-9920-4fd6-a6d1-34b84a5bb767",
   "metadata": {},
   "outputs": [
    {
     "name": "stdout",
     "output_type": "stream",
     "text": [
      "Hello!\n",
      "Hello!\n",
      "Hello!\n"
     ]
    }
   ],
   "source": [
    "# for 문 : 문자열을 3번 반복해서 출력\n",
    "for i in range(3):\n",
    "    print(\"Hello!\")"
   ]
  },
  {
   "cell_type": "code",
   "execution_count": 36,
   "id": "305f77f4-87de-4854-8d88-d787786e8bed",
   "metadata": {},
   "outputs": [
    {
     "name": "stdout",
     "output_type": "stream",
     "text": [
      "0\n",
      "1\n",
      "2\n",
      "3\n",
      "4\n"
     ]
    }
   ],
   "source": [
    "# for 문 : 반복범위의 값을 출력\n",
    "for i in range(5):\n",
    "    print(i)"
   ]
  },
  {
   "cell_type": "code",
   "execution_count": 37,
   "id": "71c3b7c9-b518-4a63-85c7-df992365cf98",
   "metadata": {},
   "outputs": [
    {
     "name": "stdout",
     "output_type": "stream",
     "text": [
      "5050\n"
     ]
    }
   ],
   "source": [
    "# while 문 : 1~100 정수의 합 계산\n",
    "sum = 0\n",
    "num = 1\n",
    "\n",
    "while num <= 100:\n",
    "    sum += num\n",
    "    num += 1\n",
    "\n",
    "print(sum)"
   ]
  },
  {
   "cell_type": "markdown",
   "id": "23fe140f-cff4-4d6e-a2c7-3462d051ec58",
   "metadata": {},
   "source": [
    "<br>\n",
    "\n",
    "## 2.8. 함수\n",
    "+ 함수(function)\n",
    "  + 특정한 기능을 수행하도록 미리 만들어 놓고, 필요할 때마다 호출하여 사용하는 일련의 코드\n",
    "  + Python에서 제공하는 내장 함수와 사용자가 직접 정의하는 사용자 정의 함수가 있음\n",
    "\n",
    "<br>\n",
    "\n",
    "+ 함수를 사용하는 이유\n",
    "  1. 중복된 코드를 함수로 분리하면 코드의 양이 줄어들고 가독성이 향상됨\n",
    "  2. 코드가 간결해져 전체 기능을 더 쉽게 이해할 수 있음\n",
    "  3. 프로그램의 흐름을 파악하기 쉬워져 유지·보수가 편리함\n",
    "  4. 필요한 기능만 함수로 정의해두면, 다른 프로그램에서 쉽게 재사용할 수 있어 효율적임\n",
    "\n",
    "<br>"
   ]
  },
  {
   "cell_type": "code",
   "execution_count": 38,
   "id": "4f54b1d8-a216-4038-9b94-7957bf041e03",
   "metadata": {},
   "outputs": [
    {
     "name": "stdout",
     "output_type": "stream",
     "text": [
      "0 수박\n",
      "1 참외\n",
      "2 자두\n"
     ]
    }
   ],
   "source": [
    "# enumerate() 함수 : for 문과 함께 사용하여 인덱스와 해당 값을 출력\n",
    "for x, name in enumerate(['수박', '참외', '자두']):\n",
    "    print(x, name)"
   ]
  },
  {
   "cell_type": "code",
   "execution_count": 39,
   "id": "8bdc30f7-248d-47ff-825c-0e61c6afc714",
   "metadata": {},
   "outputs": [
    {
     "data": {
      "text/plain": [
       "{1: 'A', 2: 'B', 3: 'C'}"
      ]
     },
     "execution_count": 39,
     "metadata": {},
     "output_type": "execute_result"
    }
   ],
   "source": [
    "# zip() 함수 : 두 리스트의 원소에 차례로 접근하여 짝을 지어 딕셔너리로 반환\n",
    "num = [1, 2, 3]\n",
    "char = ['A', 'B', 'C']\n",
    "dict(zip(num, char))"
   ]
  },
  {
   "cell_type": "code",
   "execution_count": 40,
   "id": "b1c42bd1-7e38-4507-8398-6ea82c476a94",
   "metadata": {},
   "outputs": [
    {
     "name": "stdout",
     "output_type": "stream",
     "text": [
      "0.7641387608655399\n",
      "0.30778693456857453\n",
      "0.4318721065001828\n",
      "0.4492486243988858\n",
      "0.7579981387776282\n",
      "0.7728708860268789\n",
      "0.8830619088150666\n",
      "0.7212625375896211\n",
      "0.39689229093986733\n",
      "0.19234849907644447\n"
     ]
    }
   ],
   "source": [
    "# random() 함수 : 0.0과 1.0 사이의 임의의 실수 반환(0.0은 포함하나, 1.0은 포함하지 않음)\n",
    "import random\n",
    "for i in range(10):\n",
    "    x = random.random()\n",
    "    print(x)"
   ]
  },
  {
   "cell_type": "markdown",
   "id": "02852c44-1015-4a99-a2b4-ffccf297c5ad",
   "metadata": {},
   "source": [
    "<br>\n",
    "\n",
    "+ 사용자 정의 함수\n",
    "  + 인수(argument) : 호출된 함수에 전달할 값\n",
    "  + 매개변수(parameter) : 호출된 함수에서 전달받은 값을 임시로 할당하는 변수\n",
    "  + 반환값(return value) : 매개변수로부터 처리된 작업의 결과로, 호출한 함수로 값이 반환됨\n",
    "\n",
    "<br>\n",
    "\n",
    "> **def 함수명(매개변수1, 매개변수2, …):** <br>\n",
    ">　　**문장** <br>\n",
    ">　　**return 반환값**\n",
    "\n",
    "<br>\n",
    "\n",
    "+ 함수명 작성 규칙\n",
    "  + 변수명 작성 규칙과 동일함\n",
    "  + 일반적으로 소문자로 입력\n",
    "  + 작업을 나타내기 위해 동사와 명사를 함께 사용하는 경우가 많음 - (예) find_number\n",
    "  + 외부에 공개하는 함수일 경우 줄임말을 사용하지 않고 짧고 명료한 이름으로 정함\n",
    "\n",
    "<br>"
   ]
  },
  {
   "cell_type": "code",
   "execution_count": 41,
   "id": "2c8658bc-4f6c-4599-b928-23c15a1cf727",
   "metadata": {},
   "outputs": [],
   "source": [
    "# 사용자 정의 함수 : 두 개의 수를 입력받아 큰 수를 반환하는 함수\n",
    "def max(num1, num2):\n",
    "    if num1 > num2:\n",
    "        return num1\n",
    "    else:\n",
    "        return num2\n",
    "\n",
    "#x = int(input('첫 번째 정수 입력 : '))\n",
    "#y = int(input('두 번째 정수 입력 : '))\n",
    "#print('큰 수 : ' max(x, y))"
   ]
  },
  {
   "cell_type": "markdown",
   "id": "20d3a800-471a-44cb-9481-3fb30a917b77",
   "metadata": {},
   "source": [
    "<br>\n",
    "\n",
    "+ 람다 함수(lambda function)\n",
    "  + 이름 없이 일시적으로 정의하여 사용할 수 있는 익명 함수\n",
    "  + 간단한 함수를 짧게 작성할 수 있어, 다른 함수의 인수로 자주 사용됨\n",
    "\n",
    "<br>\n",
    "\n",
    "> **lambda 매개변수들: 식**\n",
    "\n",
    "<br>"
   ]
  },
  {
   "cell_type": "code",
   "execution_count": 42,
   "id": "3a470ed4-731a-4ec9-aae8-09ed500f01fc",
   "metadata": {},
   "outputs": [
    {
     "data": {
      "text/plain": [
       "25"
      ]
     },
     "execution_count": 42,
     "metadata": {},
     "output_type": "execute_result"
    }
   ],
   "source": [
    "# 사용자 정의 함수\n",
    "def plus_five(x):\n",
    "    return x+5\n",
    "\n",
    "plus_five(20)"
   ]
  },
  {
   "cell_type": "code",
   "execution_count": 43,
   "id": "68284ccc-0837-4c66-9f39-1f0a21d3903e",
   "metadata": {},
   "outputs": [
    {
     "data": {
      "text/plain": [
       "25"
      ]
     },
     "execution_count": 43,
     "metadata": {},
     "output_type": "execute_result"
    }
   ],
   "source": [
    "# 람다 함수\n",
    "(lambda x: x+5)(20)"
   ]
  },
  {
   "cell_type": "code",
   "execution_count": 44,
   "id": "d46fbe85-2249-4789-998e-9ff290a353a7",
   "metadata": {},
   "outputs": [
    {
     "name": "stdout",
     "output_type": "stream",
     "text": [
      "[20, 30, 40]\n"
     ]
    }
   ],
   "source": [
    "# 람다 표현식을 인수로 사용\n",
    "# map() 함수 : iterable 객체의 모든 요소에 특정 함수를 적용한 결과를 반환\n",
    "result = map(lambda x: x+5, [15, 25, 35])\n",
    "print(list(result))"
   ]
  }
 ],
 "metadata": {
  "kernelspec": {
   "display_name": "Python 3 (ipykernel)",
   "language": "python",
   "name": "python3"
  },
  "language_info": {
   "codemirror_mode": {
    "name": "ipython",
    "version": 3
   },
   "file_extension": ".py",
   "mimetype": "text/x-python",
   "name": "python",
   "nbconvert_exporter": "python",
   "pygments_lexer": "ipython3",
   "version": "3.9.21"
  }
 },
 "nbformat": 4,
 "nbformat_minor": 5
}
