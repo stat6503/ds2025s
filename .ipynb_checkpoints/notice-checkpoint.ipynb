{
 "cells": [
  {
   "cell_type": "markdown",
   "id": "51f55613-3f4d-43ce-8976-1b725125d278",
   "metadata": {},
   "source": [
    "## 공지\n",
    "+ 과제 기한 : 2025년 7월 26일(토) 낮 12시까지\n",
    "+ 제출 방법 : E-mail(stat6503@gamil.com)로 제출\n",
    "+ 제출 파일 : GitHub Pages 주소 또는 `.ipynb` 파일\n",
    "\n",
    "<br>"
   ]
  },
  {
   "cell_type": "markdown",
   "id": "e64e1685-af95-48dd-b022-30ee2ed4739b",
   "metadata": {},
   "source": [
    "## 타이타닉 생존자 분석\n",
    "+ RMS 타이타닉은 영국의 화이트 스타 라인이 운영한 북대서양 횡단 여객선으로, 1912년 4월 10일 첫 출항하였다. 영국의 사우샘프턴을 떠나 미국의 뉴욕으로 향하던 중에 4월 15일 빙산과 충돌하여 침몰하였으며, 이로 인해 1,514명이 사망한 것으로 알려져 있다.\n",
    "+ 타이타닉 데이터를 분석하여 **생존에 영향을 준 요인을 파악**하고, 이를 바탕으로 **생존 여부를 예측**하는 모델을 학습해보자.\n",
    "\n",
    "<br>"
   ]
  },
  {
   "cell_type": "markdown",
   "id": "edf492f4-0135-487f-ba29-81e622227abc",
   "metadata": {},
   "source": [
    "## 데이터\n",
    "+ seaborn 라이브러리에서 제공하는 **titanic** 데이터 사용\n",
    "  + survived: 생존 여부(0, 1)\n",
    "  + pclass: 객실 등급(1, 2, 3)\n",
    "  + sex: 성별\n",
    "  + age: 나이\n",
    "  + sibsp: 함께 탑승한 형제자매, 배우자 수\n",
    "  + parch: 함께 탑승한 부모, 자식 수\n",
    "  + fare: 요금\n",
    "  + embarked: 탑승 항구(S, C, Q)\n",
    "  + class: 객실 등급(First, Second, Third)\n",
    "  + who: 사람 구분(man, woman, child)\n",
    "  + adult_male: 성인 남자 여부(True, False)\n",
    "  + deck: 갑판\n",
    "  + embark_town: 탑승 항구(Southhampton, Cherbourg, Queenstown)\n",
    "  + alive: 생존여부(no, yes)\n",
    "  + alone: 1인 탑승 여부(True, False)\n",
    "\n",
    "<br>\n",
    "\n",
    "``` python\n",
    "import numpy as np\n",
    "import pandas as pd\n",
    "import matplotlib.pyplot as plt\n",
    "import seaborn as sns\n",
    "\n",
    "df = sns.load_dataset('titanic')\n",
    "```\n",
    "\n",
    "<br>"
   ]
  },
  {
   "cell_type": "markdown",
   "id": "4f323665-6bab-402a-9f2e-9743fefd21f5",
   "metadata": {},
   "source": [
    "## 가이드라인\n",
    "+ 의미가 중복되는 변수는 하나만 선택하여 사용할 것\n",
    "+ 결측값은 반드시 처리할 것\n",
    "+ 데이터 탐색을 포함할 것\n",
    "+ 학습 데이터와 평가 데이터로 분할하여 사용할 것"
   ]
  }
 ],
 "metadata": {
  "kernelspec": {
   "display_name": "Python 3 (ipykernel)",
   "language": "python",
   "name": "python3"
  },
  "language_info": {
   "codemirror_mode": {
    "name": "ipython",
    "version": 3
   },
   "file_extension": ".py",
   "mimetype": "text/x-python",
   "name": "python",
   "nbconvert_exporter": "python",
   "pygments_lexer": "ipython3",
   "version": "3.9.21"
  }
 },
 "nbformat": 4,
 "nbformat_minor": 5
}
