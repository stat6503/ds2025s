{
 "cells": [
  {
   "cell_type": "markdown",
   "metadata": {
    "id": "oLbngjGd8Kr6"
   },
   "source": [
    "<h1>3. NumPy</h1>"
   ]
  },
  {
   "cell_type": "markdown",
   "metadata": {
    "id": "Wwwz0xoH8Tkh"
   },
   "source": [
    "## 3.1. 넘파이 배열\n",
    "+ NumPy 라이브러리\n",
    "  + Numerical Python의 약자로, 과학적 연산과 수치 계산을 위한 Python 라이브러리\n",
    "  + 대규모 다차원 배열 및 행렬 연산에 최적화되어 있으며, 빠르고 효율적인 데이터 처리를 지원함\n",
    " \n",
    "<br>\n",
    "\n",
    "+ 넘파이 배열(ndarray)\n",
    "  + 동일한 자료형의 요소들로 구성된 다차원 배열\n",
    "  + 일반적인 리스트보다 메모리 효율이 뛰어나고, 연산 속도도 훨씬 빠름\n",
    "  + 순서가 있는(ordered) 구조로, 인덱싱과 슬라이싱을 통해 요소 접근 및 수정이 가능함\n",
    "\n",
    "<br>"
   ]
  },
  {
   "cell_type": "code",
   "execution_count": 1,
   "metadata": {},
   "outputs": [],
   "source": [
    "# NumPy 라이브러리 설치\n",
    "#!pip install numpy"
   ]
  },
  {
   "cell_type": "code",
   "execution_count": 2,
   "metadata": {
    "id": "AVRcKDGM8CZ_"
   },
   "outputs": [],
   "source": [
    "# NumPy 라이브러리 불러오기\n",
    "import numpy as np"
   ]
  },
  {
   "cell_type": "code",
   "execution_count": 3,
   "metadata": {},
   "outputs": [
    {
     "name": "stdout",
     "output_type": "stream",
     "text": [
      "[1 2 3 4]\n"
     ]
    }
   ],
   "source": [
    "# 넘파이 배열 생성1 : 리스트 사용\n",
    "arr = np.array([1, 2, 3, 4])\n",
    "print(arr)"
   ]
  },
  {
   "cell_type": "code",
   "execution_count": 4,
   "metadata": {},
   "outputs": [
    {
     "name": "stdout",
     "output_type": "stream",
     "text": [
      "['1' '2' 'A']\n"
     ]
    }
   ],
   "source": [
    "# 넘파이 배열 생성2\n",
    "# 하나의 배열에는 동일한 자료형만 저장할 수 있음\n",
    "# 만약 숫자와 문자를 동시에 배열에 넣으면 모두 문자열로 취급됨\n",
    "arr = np.array([1, 2, \"A\"])\n",
    "print(arr)"
   ]
  },
  {
   "cell_type": "code",
   "execution_count": 5,
   "metadata": {},
   "outputs": [
    {
     "name": "stdout",
     "output_type": "stream",
     "text": [
      "[[ 1  2  3  4  5]\n",
      " [ 6  7  8  9 10]]\n"
     ]
    }
   ],
   "source": [
    "# 넘파이 배열 생성3 : 2차원 배열\n",
    "# 리스트를 중첩해서 인수로 넘겨 2차원 배열을 만듬\n",
    "arr = np.array([[1, 2, 3, 4, 5],\n",
    "                [6, 7, 8, 9, 10]])\n",
    "print(arr)"
   ]
  },
  {
   "cell_type": "code",
   "execution_count": 6,
   "metadata": {},
   "outputs": [
    {
     "data": {
      "text/plain": [
       "2"
      ]
     },
     "execution_count": 6,
     "metadata": {},
     "output_type": "execute_result"
    }
   ],
   "source": [
    "# 넘파이 배열 속성1 : 배열의 차원\n",
    "arr.ndim"
   ]
  },
  {
   "cell_type": "code",
   "execution_count": 7,
   "metadata": {},
   "outputs": [
    {
     "data": {
      "text/plain": [
       "dtype('int64')"
      ]
     },
     "execution_count": 7,
     "metadata": {},
     "output_type": "execute_result"
    }
   ],
   "source": [
    "# 넘파이 배열 속성2 : 배열 요소의 자료형\n",
    "arr.dtype"
   ]
  },
  {
   "cell_type": "code",
   "execution_count": 8,
   "metadata": {},
   "outputs": [
    {
     "data": {
      "text/plain": [
       "8"
      ]
     },
     "execution_count": 8,
     "metadata": {},
     "output_type": "execute_result"
    }
   ],
   "source": [
    "# 넘파이 배열 속성3 : 배열 요소의 byte 수\n",
    "arr.itemsize"
   ]
  },
  {
   "cell_type": "code",
   "execution_count": 9,
   "metadata": {},
   "outputs": [
    {
     "data": {
      "text/plain": [
       "10"
      ]
     },
     "execution_count": 9,
     "metadata": {},
     "output_type": "execute_result"
    }
   ],
   "source": [
    "# 넘파이 배열 속성4 : 배열 요소의 개수\n",
    "arr.size"
   ]
  },
  {
   "cell_type": "code",
   "execution_count": 10,
   "metadata": {},
   "outputs": [
    {
     "data": {
      "text/plain": [
       "80"
      ]
     },
     "execution_count": 10,
     "metadata": {},
     "output_type": "execute_result"
    }
   ],
   "source": [
    "# 넘파이 배열 속성5 : 배열 전체의 byte 수\n",
    "arr.nbytes"
   ]
  },
  {
   "cell_type": "code",
   "execution_count": 11,
   "metadata": {},
   "outputs": [
    {
     "data": {
      "text/plain": [
       "(2, 5)"
      ]
     },
     "execution_count": 11,
     "metadata": {},
     "output_type": "execute_result"
    }
   ],
   "source": [
    "# 넘파이 배열 속성6 : 배열의 모양(행, 열)\n",
    "arr.shape"
   ]
  },
  {
   "cell_type": "code",
   "execution_count": 12,
   "metadata": {},
   "outputs": [
    {
     "data": {
      "text/plain": [
       "array([[ 1,  6],\n",
       "       [ 2,  7],\n",
       "       [ 3,  8],\n",
       "       [ 4,  9],\n",
       "       [ 5, 10]])"
      ]
     },
     "execution_count": 12,
     "metadata": {},
     "output_type": "execute_result"
    }
   ],
   "source": [
    "# 넘파이 배열 속성7 : 전치(transpose)\n",
    "arr.T"
   ]
  },
  {
   "cell_type": "markdown",
   "metadata": {
    "id": "LJHLlAAZCy2_"
   },
   "source": [
    "<br>\n",
    "\n",
    "+ NumPy 라이브러리의 `arange()` 함수를 이용하여 등차수열을 생성할 수 있음\n",
    "  + start : 시작 값\n",
    "  + stop : 끝 값 (포함하지 않음)\n",
    "  + step : 차이 값; 간격(stride)\n",
    "\n",
    "<br>\n",
    "\n",
    "> numpy.arange(start, stop, step)\n",
    "\n",
    "<br>"
   ]
  },
  {
   "cell_type": "code",
   "execution_count": 13,
   "metadata": {},
   "outputs": [
    {
     "name": "stdout",
     "output_type": "stream",
     "text": [
      "[0 1 2 3 4]\n"
     ]
    }
   ],
   "source": [
    "# 등차수열 생성1 : 0부터 n-1까지 정수\n",
    "arr = np.arange(5)\n",
    "print(arr)"
   ]
  },
  {
   "cell_type": "code",
   "execution_count": 14,
   "metadata": {},
   "outputs": [
    {
     "name": "stdout",
     "output_type": "stream",
     "text": [
      "[2 3 4 5 6 7 8 9]\n"
     ]
    }
   ],
   "source": [
    "# 등차수열 생성2 : 시작 값, 끝 값 지정\n",
    "arr = np.arange(2, 10)\n",
    "print(arr)  "
   ]
  },
  {
   "cell_type": "code",
   "execution_count": 15,
   "metadata": {},
   "outputs": [
    {
     "name": "stdout",
     "output_type": "stream",
     "text": [
      "[1 3 5 7 9]\n"
     ]
    }
   ],
   "source": [
    "# 등차수열 생성3 : 간격 지정\n",
    "arr = np.arange(1, 10, 2)\n",
    "print(arr)"
   ]
  },
  {
   "cell_type": "code",
   "execution_count": 16,
   "metadata": {
    "colab": {
     "base_uri": "https://localhost:8080/"
    },
    "id": "DunmAOvxDTIg",
    "outputId": "87618849-43d7-4215-9283-146801ae299d"
   },
   "outputs": [
    {
     "name": "stdout",
     "output_type": "stream",
     "text": [
      "[0.  0.2 0.4 0.6 0.8]\n"
     ]
    }
   ],
   "source": [
    "# 등차수열 생성4 : 실수(float) 간격 지정\n",
    "arr = np.arange(0, 1, 0.2)\n",
    "print(arr)"
   ]
  },
  {
   "cell_type": "markdown",
   "metadata": {
    "id": "Cnl5KIwS95h5"
   },
   "source": [
    "<br>\n",
    "\n",
    "## 3.2. 넘파이 배열 인덱싱\n",
    "+ 넘파이 배열은 정수, 배열, 논리값(boolean) 등으로 인덱싱할 수 있음\n",
    "+ 리스트 인덱싱과 마찬가지로 `[]`를 사용하며, 인덱스는 0부터 시작\n",
    "+ 마스킹(masking), 논리값 인덱싱(boolean indexing)\n",
    "  + 특정 조건에 맞는 데이터를 추출하는 것\n",
    "  + 일반적으로 비교 연산자를 사용한 조건식을 사용함\n",
    "  + 특히 데이터가 많을 때 반복문 없이 조건 검사가 가능하여 효율적임\n",
    "\n",
    "<br>"
   ]
  },
  {
   "cell_type": "code",
   "execution_count": 17,
   "metadata": {},
   "outputs": [
    {
     "name": "stdout",
     "output_type": "stream",
     "text": [
      "20\n",
      "40\n"
     ]
    }
   ],
   "source": [
    "# 정수 인덱싱\n",
    "arr = np.array([10, 20, 30, 40, 50])\n",
    "print(arr[1])\n",
    "print(arr[-2])"
   ]
  },
  {
   "cell_type": "code",
   "execution_count": 18,
   "metadata": {},
   "outputs": [
    {
     "name": "stdout",
     "output_type": "stream",
     "text": [
      "[10 30]\n"
     ]
    }
   ],
   "source": [
    "# 배열 인덱싱\n",
    "idx = np.array([0, 2])\n",
    "print(arr[idx])"
   ]
  },
  {
   "cell_type": "code",
   "execution_count": 19,
   "metadata": {},
   "outputs": [
    {
     "name": "stdout",
     "output_type": "stream",
     "text": [
      "[10 30 40]\n",
      "[30 40 50]\n"
     ]
    }
   ],
   "source": [
    "# 논리값(boolean) 인덱싱 : 조건을 만족하는 값 추출\n",
    "mask = np.array([True, False, True, True, False])\n",
    "print(arr[mask])\n",
    "print(arr[arr > 25])"
   ]
  },
  {
   "cell_type": "markdown",
   "metadata": {
    "id": "o6ZAsNAc_vgM"
   },
   "source": [
    "<br>\n",
    "\n",
    "## 3.3. 넘파이 배열 슬라이싱\n",
    "+ 넘파이 배열에서 연속된 일부 요소를 잘라 추출하는 것\n",
    "+ `[start:stop:step]`를 사용하여 범위를 지정함\n",
    "  + start : 시작 인덱스\n",
    "  + stop : 끝 인덱스 (포함하지 않음)\n",
    "  + step : 증감 폭\n",
    "\n",
    "<br>"
   ]
  },
  {
   "cell_type": "code",
   "execution_count": 20,
   "metadata": {},
   "outputs": [
    {
     "name": "stdout",
     "output_type": "stream",
     "text": [
      "[12 13 14]\n"
     ]
    }
   ],
   "source": [
    "# 배열 슬라이싱1 : 1번 인덱스부터 4번 인덱스 전까지\n",
    "arr = np.array([11, 12, 13, 14, 15])\n",
    "print(arr[1:4])"
   ]
  },
  {
   "cell_type": "code",
   "execution_count": 21,
   "metadata": {},
   "outputs": [
    {
     "name": "stdout",
     "output_type": "stream",
     "text": [
      "[11 12 13]\n"
     ]
    }
   ],
   "source": [
    "# 배열 슬라이싱2 : 처음부터 3번 인덱스 전까지\n",
    "print(arr[:3])"
   ]
  },
  {
   "cell_type": "code",
   "execution_count": 22,
   "metadata": {},
   "outputs": [
    {
     "name": "stdout",
     "output_type": "stream",
     "text": [
      "[13 14 15]\n"
     ]
    }
   ],
   "source": [
    "# 배열 슬라이싱3 : 2번 인덱스부터 끝까지\n",
    "print(arr[2:])            # [30 40 50] ()"
   ]
  },
  {
   "cell_type": "code",
   "execution_count": 23,
   "metadata": {},
   "outputs": [
    {
     "name": "stdout",
     "output_type": "stream",
     "text": [
      "[11 13 15]\n"
     ]
    }
   ],
   "source": [
    "# 배열 슬라이싱4 : 요소를 2개씩 건너뛰기\n",
    "print(arr[::2])"
   ]
  },
  {
   "cell_type": "code",
   "execution_count": 24,
   "metadata": {},
   "outputs": [
    {
     "name": "stdout",
     "output_type": "stream",
     "text": [
      "[15 14 13 12 11]\n"
     ]
    }
   ],
   "source": [
    "# 배열 슬라이싱5 : 역순 정렬\n",
    "print(arr[::-1])"
   ]
  },
  {
   "cell_type": "markdown",
   "metadata": {
    "id": "8HUCXU4YFpHa"
   },
   "source": [
    "<br>\n",
    "\n",
    "## 3.4. 브로드캐스팅\n",
    "+ 브로드캐스팅(broadcasting)\n",
    "  + 서로 다른 형태의 배열 간 연산을 할 때 발생함\n",
    "  + 작은 차원의 배열을 큰 차원의 배열에 맞게 자동으로 변환한 후, 요소별로 연산을 수행함\n",
    "\n",
    "![](./images/fig2-1.png){width=70%}\n",
    "\n",
    "<br>"
   ]
  },
  {
   "cell_type": "code",
   "execution_count": 25,
   "metadata": {},
   "outputs": [
    {
     "data": {
      "text/plain": [
       "array([11, 22, 33])"
      ]
     },
     "execution_count": 25,
     "metadata": {},
     "output_type": "execute_result"
    }
   ],
   "source": [
    "# 넘파이 배열 연산 : 동일한 위치의 요소 간 연산 숭행\n",
    "arr1 = np.array([1, 2, 3])\n",
    "arr2 = np.array([10, 20, 30])\n",
    "arr1 + arr2"
   ]
  },
  {
   "cell_type": "code",
   "execution_count": 26,
   "metadata": {
    "id": "mY9SNHH_Cykm"
   },
   "outputs": [
    {
     "name": "stdout",
     "output_type": "stream",
     "text": [
      "[3 4 5 6]\n",
      "[2 4 6 8]\n"
     ]
    }
   ],
   "source": [
    "# 넘파이 배열 연산 : 브로드캐스팅\n",
    "arr = np.array([1, 2, 3, 4])\n",
    "print(arr + 2)\n",
    "print(arr * 2)"
   ]
  },
  {
   "cell_type": "markdown",
   "metadata": {
    "id": "0XeUplfKHEbu"
   },
   "source": [
    "<br>\n",
    "\n",
    "## 3.5. 배열 정렬\n",
    "+ `np.sort(배열)` : 배열을 오름차순 정렬한 새로운 배열을 반환, 원본은 변하지 않음\n",
    "+ `배열.sort()` : 배열을 오름차순 정렬하고, 원본 자체를 변경함\n",
    "+ `np.argsort(배열)` : 정렬 시 각 요소가 위치하게 될 인덱스의 배열을 반환\n",
    "\n",
    "<br>"
   ]
  },
  {
   "cell_type": "code",
   "execution_count": 27,
   "metadata": {
    "colab": {
     "base_uri": "https://localhost:8080/"
    },
    "id": "CXOCxerxHwwB",
    "outputId": "edaccc3d-fc53-462c-a00c-199721fd0fc3"
   },
   "outputs": [
    {
     "name": "stdout",
     "output_type": "stream",
     "text": [
      "[1 2 3 4 5]\n",
      "[3 2 5 1 4]\n"
     ]
    }
   ],
   "source": [
    "# 배열 정렬1\n",
    "arr = np.array([3, 2, 5, 1, 4])\n",
    "print(np.sort(arr))\n",
    "print(arr)"
   ]
  },
  {
   "cell_type": "code",
   "execution_count": 28,
   "metadata": {},
   "outputs": [
    {
     "name": "stdout",
     "output_type": "stream",
     "text": [
      "[1 2 3 4 5]\n"
     ]
    }
   ],
   "source": [
    "# 배열 정렬2\n",
    "arr.sort()\n",
    "print(arr)"
   ]
  },
  {
   "cell_type": "code",
   "execution_count": 29,
   "metadata": {},
   "outputs": [
    {
     "name": "stdout",
     "output_type": "stream",
     "text": [
      "[3 1 0 4 2]\n"
     ]
    }
   ],
   "source": [
    "# 배열 정렬3\n",
    "arr = np.array([3, 2, 5, 1, 4])\n",
    "print(np.argsort(arr))"
   ]
  },
  {
   "cell_type": "markdown",
   "metadata": {
    "id": "8G_Kzrn3GW0p"
   },
   "source": [
    "<br>\n",
    "\n",
    "## 3.6. 얕은 복사와 깊은 복사\n",
    "+ 얕은 복사\n",
    "  + `=` 연산자 또는 `view()` 메소드를 사용한 복사\n",
    "  + 데이터의 메모리 주소만 복사하여, 원본과 데이터를 공유함\n",
    "  + 원본이나 복사본 중 하나를 수정하면 서로 영향을 미침\n",
    "\n",
    "<br>\n",
    "\n",
    "+ 깊은 복사\n",
    "  + `copy()` 메소드를 사용한 복사\n",
    "  + 완전히 새로운 메모리 공간에 데이터 전체를 복사함\n",
    "  + 원본과 복사본이 독립적이며, 어느 쪽을 수정해도 서로 영향을 주지 않음\n",
    "\n",
    "<br>"
   ]
  },
  {
   "cell_type": "code",
   "execution_count": 30,
   "metadata": {
    "colab": {
     "base_uri": "https://localhost:8080/"
    },
    "id": "E8_TIxzlGWSj",
    "outputId": "57242b24-26d6-4587-c9f0-3b2e44ff3776"
   },
   "outputs": [
    {
     "name": "stdout",
     "output_type": "stream",
     "text": [
      "[0 1 2 3 4 5]\n",
      "[0 1 2 3 4 5]\n"
     ]
    }
   ],
   "source": [
    "# 얕은 복사\n",
    "arr1 = np.arange(6)\n",
    "copy1 = arr1\n",
    "\n",
    "print(arr1)\n",
    "print(copy1)"
   ]
  },
  {
   "cell_type": "code",
   "execution_count": 31,
   "metadata": {},
   "outputs": [
    {
     "name": "stdout",
     "output_type": "stream",
     "text": [
      "[10  1  2  3  4  5]\n",
      "[10  1  2  3  4  5]\n"
     ]
    }
   ],
   "source": [
    "# 복사본을 수정하면 원본도 변함\n",
    "copy1[0] = 10\n",
    "print(arr1)\n",
    "print(copy1)"
   ]
  },
  {
   "cell_type": "code",
   "execution_count": 32,
   "metadata": {
    "colab": {
     "base_uri": "https://localhost:8080/"
    },
    "id": "_plCmKU2GvhH",
    "outputId": "1f8d726a-da85-49cb-c3cc-cd12899aadbe"
   },
   "outputs": [
    {
     "name": "stdout",
     "output_type": "stream",
     "text": [
      "[0 1 2 3 4 5]\n",
      "[0 1 2 3 4 5]\n"
     ]
    }
   ],
   "source": [
    "# 깊은 복사\n",
    "arr2 = np.arange(6)\n",
    "copy2 = arr2.copy()\n",
    "\n",
    "print(arr2)\n",
    "print(copy2)"
   ]
  },
  {
   "cell_type": "code",
   "execution_count": 33,
   "metadata": {},
   "outputs": [
    {
     "name": "stdout",
     "output_type": "stream",
     "text": [
      "[0 1 2 3 4 5]\n",
      "[20  1  2  3  4  5]\n"
     ]
    }
   ],
   "source": [
    "# 복사본을 수정해도 원본이 변하지 않음\n",
    "copy2[0] = 20\n",
    "print(arr2)\n",
    "print(copy2)"
   ]
  }
 ],
 "metadata": {
  "colab": {
   "provenance": []
  },
  "kernelspec": {
   "display_name": "Python 3 (ipykernel)",
   "language": "python",
   "name": "python3"
  },
  "language_info": {
   "codemirror_mode": {
    "name": "ipython",
    "version": 3
   },
   "file_extension": ".py",
   "mimetype": "text/x-python",
   "name": "python",
   "nbconvert_exporter": "python",
   "pygments_lexer": "ipython3",
   "version": "3.9.21"
  }
 },
 "nbformat": 4,
 "nbformat_minor": 4
}
